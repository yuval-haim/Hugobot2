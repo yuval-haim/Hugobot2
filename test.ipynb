{
 "cells": [
  {
   "cell_type": "code",
   "execution_count": 1,
   "metadata": {},
   "outputs": [],
   "source": [
    "import warnings\n",
    "import numpy as np\n",
    "import pandas as pd\n",
    "import os\n",
    "warnings.simplefilter(\"ignore\", np.RankWarning)\n",
    "\n",
    "if not os.path.exists(\"ta_package\"):\n",
    "    os.system('git clone https://github.com/yuval-haim/HugoBot_2.0.git ')\n"
   ]
  },
  {
   "cell_type": "code",
   "execution_count": 2,
   "metadata": {},
   "outputs": [],
   "source": [
    "data = pd.read_csv(\"FAGender.csv\")\n",
    "output_dir = \"./output_test_hugobot/\""
   ]
  },
  {
   "cell_type": "markdown",
   "metadata": {},
   "source": [
    "### Low‑Level API Examples"
   ]
  },
  {
   "cell_type": "code",
   "execution_count": 3,
   "metadata": {},
   "outputs": [
    {
     "name": "stdout",
     "output_type": "stream",
     "text": [
      "SAX symbolic series:\n"
     ]
    },
    {
     "data": {
      "application/vnd.microsoft.datawrangler.viewer.v0+json": {
       "columns": [
        {
         "name": "index",
         "rawType": "int64",
         "type": "integer"
        },
        {
         "name": "EntityID",
         "rawType": "int64",
         "type": "integer"
        },
        {
         "name": "TemporalPropertyID",
         "rawType": "int64",
         "type": "integer"
        },
        {
         "name": "TimeStamp",
         "rawType": "int64",
         "type": "integer"
        },
        {
         "name": "TemporalPropertyValue",
         "rawType": "float64",
         "type": "float"
        },
        {
         "name": "state",
         "rawType": "int64",
         "type": "integer"
        }
       ],
       "ref": "035edbc1-2a6e-40c8-9610-7ae2a393b09d",
       "rows": [
        [
         "0",
         "5",
         "44",
         "6",
         "1.0",
         "1"
        ],
        [
         "1",
         "5",
         "44",
         "7",
         "1.0",
         "1"
        ],
        [
         "2",
         "5",
         "44",
         "8",
         "1.0",
         "1"
        ],
        [
         "3",
         "5",
         "44",
         "9",
         "1.1",
         "2"
        ],
        [
         "4",
         "5",
         "44",
         "10",
         "1.1",
         "2"
        ]
       ],
       "shape": {
        "columns": 5,
        "rows": 5
       }
      },
      "text/html": [
       "<div>\n",
       "<style scoped>\n",
       "    .dataframe tbody tr th:only-of-type {\n",
       "        vertical-align: middle;\n",
       "    }\n",
       "\n",
       "    .dataframe tbody tr th {\n",
       "        vertical-align: top;\n",
       "    }\n",
       "\n",
       "    .dataframe thead th {\n",
       "        text-align: right;\n",
       "    }\n",
       "</style>\n",
       "<table border=\"1\" class=\"dataframe\">\n",
       "  <thead>\n",
       "    <tr style=\"text-align: right;\">\n",
       "      <th></th>\n",
       "      <th>EntityID</th>\n",
       "      <th>TemporalPropertyID</th>\n",
       "      <th>TimeStamp</th>\n",
       "      <th>TemporalPropertyValue</th>\n",
       "      <th>state</th>\n",
       "    </tr>\n",
       "  </thead>\n",
       "  <tbody>\n",
       "    <tr>\n",
       "      <th>0</th>\n",
       "      <td>5</td>\n",
       "      <td>44</td>\n",
       "      <td>6</td>\n",
       "      <td>1.0</td>\n",
       "      <td>1</td>\n",
       "    </tr>\n",
       "    <tr>\n",
       "      <th>1</th>\n",
       "      <td>5</td>\n",
       "      <td>44</td>\n",
       "      <td>7</td>\n",
       "      <td>1.0</td>\n",
       "      <td>1</td>\n",
       "    </tr>\n",
       "    <tr>\n",
       "      <th>2</th>\n",
       "      <td>5</td>\n",
       "      <td>44</td>\n",
       "      <td>8</td>\n",
       "      <td>1.0</td>\n",
       "      <td>1</td>\n",
       "    </tr>\n",
       "    <tr>\n",
       "      <th>3</th>\n",
       "      <td>5</td>\n",
       "      <td>44</td>\n",
       "      <td>9</td>\n",
       "      <td>1.1</td>\n",
       "      <td>2</td>\n",
       "    </tr>\n",
       "    <tr>\n",
       "      <th>4</th>\n",
       "      <td>5</td>\n",
       "      <td>44</td>\n",
       "      <td>10</td>\n",
       "      <td>1.1</td>\n",
       "      <td>2</td>\n",
       "    </tr>\n",
       "  </tbody>\n",
       "</table>\n",
       "</div>"
      ],
      "text/plain": [
       "   EntityID  TemporalPropertyID  TimeStamp  TemporalPropertyValue  state\n",
       "0         5                  44          6                    1.0      1\n",
       "1         5                  44          7                    1.0      1\n",
       "2         5                  44          8                    1.0      1\n",
       "3         5                  44          9                    1.1      2\n",
       "4         5                  44         10                    1.1      2"
      ]
     },
     "metadata": {},
     "output_type": "display_data"
    },
    {
     "name": "stdout",
     "output_type": "stream",
     "text": [
      "SAX states:\n",
      "{-1: [-0.43072729929545756, 0.43072729929545744], 1: [-0.43072729929545756, 0.43072729929545744], 2: [-0.43072729929545756, 0.43072729929545744], 3: [-0.43072729929545756, 0.43072729929545744], 4: [-0.43072729929545756, 0.43072729929545744], 5: [-0.43072729929545756, 0.43072729929545744], 6: [-0.43072729929545756, 0.43072729929545744], 39: [-0.43072729929545756, 0.43072729929545744], 40: [-0.43072729929545756, 0.43072729929545744], 41: [-0.43072729929545756, 0.43072729929545744], 42: [-0.43072729929545756, 0.43072729929545744], 43: [-0.43072729929545756, 0.43072729929545744], 44: [-0.43072729929545756, 0.43072729929545744], 55: [-0.43072729929545756, 0.43072729929545744]}\n"
     ]
    }
   ],
   "source": [
    "from ta_package.methods.sax import sax\n",
    "\n",
    "# Apply SAX discretization with 3 bins.\n",
    "symbolic_series, states = sax(data, bins=3, per_variable=True)\n",
    "\n",
    "print(\"SAX symbolic series:\")\n",
    "display(symbolic_series.head())\n",
    "print(\"SAX states:\")\n",
    "print(states)\n"
   ]
  },
  {
   "cell_type": "code",
   "execution_count": 4,
   "metadata": {},
   "outputs": [
    {
     "name": "stdout",
     "output_type": "stream",
     "text": [
      "Equal Width symbolic series:\n"
     ]
    },
    {
     "data": {
      "application/vnd.microsoft.datawrangler.viewer.v0+json": {
       "columns": [
        {
         "name": "index",
         "rawType": "int64",
         "type": "integer"
        },
        {
         "name": "EntityID",
         "rawType": "int64",
         "type": "integer"
        },
        {
         "name": "TemporalPropertyID",
         "rawType": "int64",
         "type": "integer"
        },
        {
         "name": "TimeStamp",
         "rawType": "int64",
         "type": "integer"
        },
        {
         "name": "TemporalPropertyValue",
         "rawType": "float64",
         "type": "float"
        },
        {
         "name": "state",
         "rawType": "int64",
         "type": "integer"
        }
       ],
       "ref": "453ee607-42e7-4c0b-a82c-46117ad55d14",
       "rows": [
        [
         "0",
         "5",
         "44",
         "6",
         "1.0",
         "1"
        ],
        [
         "1",
         "5",
         "44",
         "7",
         "1.0",
         "1"
        ],
        [
         "2",
         "5",
         "44",
         "8",
         "1.0",
         "1"
        ],
        [
         "3",
         "5",
         "44",
         "9",
         "1.1",
         "2"
        ],
        [
         "4",
         "5",
         "44",
         "10",
         "1.1",
         "2"
        ]
       ],
       "shape": {
        "columns": 5,
        "rows": 5
       }
      },
      "text/html": [
       "<div>\n",
       "<style scoped>\n",
       "    .dataframe tbody tr th:only-of-type {\n",
       "        vertical-align: middle;\n",
       "    }\n",
       "\n",
       "    .dataframe tbody tr th {\n",
       "        vertical-align: top;\n",
       "    }\n",
       "\n",
       "    .dataframe thead th {\n",
       "        text-align: right;\n",
       "    }\n",
       "</style>\n",
       "<table border=\"1\" class=\"dataframe\">\n",
       "  <thead>\n",
       "    <tr style=\"text-align: right;\">\n",
       "      <th></th>\n",
       "      <th>EntityID</th>\n",
       "      <th>TemporalPropertyID</th>\n",
       "      <th>TimeStamp</th>\n",
       "      <th>TemporalPropertyValue</th>\n",
       "      <th>state</th>\n",
       "    </tr>\n",
       "  </thead>\n",
       "  <tbody>\n",
       "    <tr>\n",
       "      <th>0</th>\n",
       "      <td>5</td>\n",
       "      <td>44</td>\n",
       "      <td>6</td>\n",
       "      <td>1.0</td>\n",
       "      <td>1</td>\n",
       "    </tr>\n",
       "    <tr>\n",
       "      <th>1</th>\n",
       "      <td>5</td>\n",
       "      <td>44</td>\n",
       "      <td>7</td>\n",
       "      <td>1.0</td>\n",
       "      <td>1</td>\n",
       "    </tr>\n",
       "    <tr>\n",
       "      <th>2</th>\n",
       "      <td>5</td>\n",
       "      <td>44</td>\n",
       "      <td>8</td>\n",
       "      <td>1.0</td>\n",
       "      <td>1</td>\n",
       "    </tr>\n",
       "    <tr>\n",
       "      <th>3</th>\n",
       "      <td>5</td>\n",
       "      <td>44</td>\n",
       "      <td>9</td>\n",
       "      <td>1.1</td>\n",
       "      <td>2</td>\n",
       "    </tr>\n",
       "    <tr>\n",
       "      <th>4</th>\n",
       "      <td>5</td>\n",
       "      <td>44</td>\n",
       "      <td>10</td>\n",
       "      <td>1.1</td>\n",
       "      <td>2</td>\n",
       "    </tr>\n",
       "  </tbody>\n",
       "</table>\n",
       "</div>"
      ],
      "text/plain": [
       "   EntityID  TemporalPropertyID  TimeStamp  TemporalPropertyValue  state\n",
       "0         5                  44          6                    1.0      1\n",
       "1         5                  44          7                    1.0      1\n",
       "2         5                  44          8                    1.0      1\n",
       "3         5                  44          9                    1.1      2\n",
       "4         5                  44         10                    1.1      2"
      ]
     },
     "metadata": {},
     "output_type": "display_data"
    },
    {
     "name": "stdout",
     "output_type": "stream",
     "text": [
      "Equal Width states:\n",
      "{-1: [0.2, 0.4, 0.6, 0.8], 1: [27.060000000000002, 41.22, 55.379999999999995, 69.54], 2: [12.82, 14.64, 16.46, 18.28], 3: [14.8, 18.6, 22.4, 26.2], 4: [14.8, 18.6, 22.4, 26.2], 5: [12.82, 14.64, 16.46, 18.28], 6: [30.0, 45.0, 60.0, 75.0], 39: [6.98, 8.26, 9.54, 10.82], 40: [88.2, 104.4, 120.6, 136.8], 41: [164.0, 183.0, 202.0, 221.0], 42: [122.0, 169.0, 216.0, 263.0], 43: [3.9400000000000004, 4.180000000000001, 4.42, 4.66], 44: [1.056, 1.242, 1.428, 1.6139999999999999], 55: [0.2, 0.4, 0.6, 0.8]}\n"
     ]
    }
   ],
   "source": [
    "from ta_package.methods.equal_width import equal_width\n",
    "\n",
    "# Apply Equal Width discretization with 3 bins.\n",
    "symbolic_series, states = equal_width(data, bins=5, per_variable=True)\n",
    "\n",
    "print(\"Equal Width symbolic series:\")\n",
    "display(symbolic_series.head())\n",
    "print(\"Equal Width states:\")\n",
    "print(states)\n",
    "\n"
   ]
  },
  {
   "cell_type": "code",
   "execution_count": 5,
   "metadata": {},
   "outputs": [
    {
     "name": "stdout",
     "output_type": "stream",
     "text": [
      "Gradient symbolic series:\n"
     ]
    },
    {
     "data": {
      "application/vnd.microsoft.datawrangler.viewer.v0+json": {
       "columns": [
        {
         "name": "index",
         "rawType": "int64",
         "type": "integer"
        },
        {
         "name": "EntityID",
         "rawType": "int64",
         "type": "integer"
        },
        {
         "name": "TemporalPropertyID",
         "rawType": "int64",
         "type": "integer"
        },
        {
         "name": "TimeStamp",
         "rawType": "int64",
         "type": "integer"
        },
        {
         "name": "TemporalPropertyValue",
         "rawType": "float64",
         "type": "float"
        },
        {
         "name": "angle",
         "rawType": "float64",
         "type": "float"
        },
        {
         "name": "state",
         "rawType": "int64",
         "type": "integer"
        }
       ],
       "ref": "cf1e2d2d-2a2d-4a8a-a027-e2924528200a",
       "rows": [
        [
         "1106",
         "5",
         "2",
         "9",
         "20.1",
         null,
         "-1"
        ],
        [
         "1107",
         "5",
         "2",
         "12",
         "20.1",
         "-2.714073328182201e-14",
         "0"
        ],
        [
         "1108",
         "5",
         "2",
         "17",
         "20.1",
         "-4.489224096414133e-14",
         "0"
        ],
        [
         "1109",
         "5",
         "2",
         "24",
         "20.1",
         "-6.408217703523115e-15",
         "1"
        ],
        [
         "1110",
         "5",
         "2",
         "31",
         "20.1",
         "-9.527137859850083e-15",
         "1"
        ]
       ],
       "shape": {
        "columns": 6,
        "rows": 5
       }
      },
      "text/html": [
       "<div>\n",
       "<style scoped>\n",
       "    .dataframe tbody tr th:only-of-type {\n",
       "        vertical-align: middle;\n",
       "    }\n",
       "\n",
       "    .dataframe tbody tr th {\n",
       "        vertical-align: top;\n",
       "    }\n",
       "\n",
       "    .dataframe thead th {\n",
       "        text-align: right;\n",
       "    }\n",
       "</style>\n",
       "<table border=\"1\" class=\"dataframe\">\n",
       "  <thead>\n",
       "    <tr style=\"text-align: right;\">\n",
       "      <th></th>\n",
       "      <th>EntityID</th>\n",
       "      <th>TemporalPropertyID</th>\n",
       "      <th>TimeStamp</th>\n",
       "      <th>TemporalPropertyValue</th>\n",
       "      <th>angle</th>\n",
       "      <th>state</th>\n",
       "    </tr>\n",
       "  </thead>\n",
       "  <tbody>\n",
       "    <tr>\n",
       "      <th>1106</th>\n",
       "      <td>5</td>\n",
       "      <td>2</td>\n",
       "      <td>9</td>\n",
       "      <td>20.1</td>\n",
       "      <td>NaN</td>\n",
       "      <td>-1</td>\n",
       "    </tr>\n",
       "    <tr>\n",
       "      <th>1107</th>\n",
       "      <td>5</td>\n",
       "      <td>2</td>\n",
       "      <td>12</td>\n",
       "      <td>20.1</td>\n",
       "      <td>-2.714073e-14</td>\n",
       "      <td>0</td>\n",
       "    </tr>\n",
       "    <tr>\n",
       "      <th>1108</th>\n",
       "      <td>5</td>\n",
       "      <td>2</td>\n",
       "      <td>17</td>\n",
       "      <td>20.1</td>\n",
       "      <td>-4.489224e-14</td>\n",
       "      <td>0</td>\n",
       "    </tr>\n",
       "    <tr>\n",
       "      <th>1109</th>\n",
       "      <td>5</td>\n",
       "      <td>2</td>\n",
       "      <td>24</td>\n",
       "      <td>20.1</td>\n",
       "      <td>-6.408218e-15</td>\n",
       "      <td>1</td>\n",
       "    </tr>\n",
       "    <tr>\n",
       "      <th>1110</th>\n",
       "      <td>5</td>\n",
       "      <td>2</td>\n",
       "      <td>31</td>\n",
       "      <td>20.1</td>\n",
       "      <td>-9.527138e-15</td>\n",
       "      <td>1</td>\n",
       "    </tr>\n",
       "  </tbody>\n",
       "</table>\n",
       "</div>"
      ],
      "text/plain": [
       "      EntityID  TemporalPropertyID  TimeStamp  TemporalPropertyValue  \\\n",
       "1106         5                   2          9                   20.1   \n",
       "1107         5                   2         12                   20.1   \n",
       "1108         5                   2         17                   20.1   \n",
       "1109         5                   2         24                   20.1   \n",
       "1110         5                   2         31                   20.1   \n",
       "\n",
       "             angle  state  \n",
       "1106           NaN     -1  \n",
       "1107 -2.714073e-14      0  \n",
       "1108 -4.489224e-14      0  \n",
       "1109 -6.408218e-15      1  \n",
       "1110 -9.527138e-15      1  "
      ]
     },
     "metadata": {},
     "output_type": "display_data"
    },
    {
     "name": "stdout",
     "output_type": "stream",
     "text": [
      "Gradient states:\n",
      "{1: [1.6450514543386675e-14, 48.918885329437906], 2: [-1.1650242136581006e-14, 2.100084055241401e-14], 3: [-1.5877839247743975e-14, 2.661681744946431e-14], 4: [-6.408217703523115e-15, 4.707018550527229e-14], 5: [-6.408217703523115e-15, 1.5253949376414637e-14], 6: [42.21759379995638, 60.25323486738442], 39: [-4.594205195562309, -0.0798042623302442], 40: [-6.409298087412797e-14, 7.97069862874838e-15], 41: [-5.036744586559252e-13, 7.988621074358014e-14], 42: [-59.89869543440032, -3.1352324179412754e-14], 43: [-0.3376317184734337, 0.7366194348659766], 44: [-8.322355836892118e-15, 0.40730474172839437], 55: [-45, 45]}\n"
     ]
    }
   ],
   "source": [
    "from ta_package.methods.gradient import gradient\n",
    "\n",
    "# Apply Gradient discretization with a gradient window size of 3 and 3 bins.\n",
    "symbolic_series, states = gradient(data, gradient_window_size=14, bins=3, close_to_zero_percentage = 30, per_variable=True) # \n",
    "\n",
    "print(\"Gradient symbolic series:\")\n",
    "display(symbolic_series.head())\n",
    "print(\"Gradient states:\")\n",
    "print(states)\n"
   ]
  },
  {
   "cell_type": "code",
   "execution_count": 6,
   "metadata": {},
   "outputs": [
    {
     "name": "stdout",
     "output_type": "stream",
     "text": [
      "TD4C symbolic series:\n"
     ]
    },
    {
     "data": {
      "application/vnd.microsoft.datawrangler.viewer.v0+json": {
       "columns": [
        {
         "name": "index",
         "rawType": "int64",
         "type": "integer"
        },
        {
         "name": "EntityID",
         "rawType": "int64",
         "type": "integer"
        },
        {
         "name": "TemporalPropertyID",
         "rawType": "int64",
         "type": "integer"
        },
        {
         "name": "TimeStamp",
         "rawType": "int64",
         "type": "integer"
        },
        {
         "name": "TemporalPropertyValue",
         "rawType": "float64",
         "type": "float"
        },
        {
         "name": "state",
         "rawType": "int64",
         "type": "integer"
        }
       ],
       "ref": "5546542a-2644-4c09-a30e-40a102a0cf70",
       "rows": [
        [
         "0",
         "5",
         "44",
         "6",
         "1.0",
         "3"
        ],
        [
         "1",
         "5",
         "44",
         "7",
         "1.0",
         "3"
        ],
        [
         "2",
         "5",
         "44",
         "8",
         "1.0",
         "3"
        ],
        [
         "3",
         "5",
         "44",
         "9",
         "1.1",
         "3"
        ],
        [
         "4",
         "5",
         "44",
         "10",
         "1.1",
         "3"
        ]
       ],
       "shape": {
        "columns": 5,
        "rows": 5
       }
      },
      "text/html": [
       "<div>\n",
       "<style scoped>\n",
       "    .dataframe tbody tr th:only-of-type {\n",
       "        vertical-align: middle;\n",
       "    }\n",
       "\n",
       "    .dataframe tbody tr th {\n",
       "        vertical-align: top;\n",
       "    }\n",
       "\n",
       "    .dataframe thead th {\n",
       "        text-align: right;\n",
       "    }\n",
       "</style>\n",
       "<table border=\"1\" class=\"dataframe\">\n",
       "  <thead>\n",
       "    <tr style=\"text-align: right;\">\n",
       "      <th></th>\n",
       "      <th>EntityID</th>\n",
       "      <th>TemporalPropertyID</th>\n",
       "      <th>TimeStamp</th>\n",
       "      <th>TemporalPropertyValue</th>\n",
       "      <th>state</th>\n",
       "    </tr>\n",
       "  </thead>\n",
       "  <tbody>\n",
       "    <tr>\n",
       "      <th>0</th>\n",
       "      <td>5</td>\n",
       "      <td>44</td>\n",
       "      <td>6</td>\n",
       "      <td>1.0</td>\n",
       "      <td>3</td>\n",
       "    </tr>\n",
       "    <tr>\n",
       "      <th>1</th>\n",
       "      <td>5</td>\n",
       "      <td>44</td>\n",
       "      <td>7</td>\n",
       "      <td>1.0</td>\n",
       "      <td>3</td>\n",
       "    </tr>\n",
       "    <tr>\n",
       "      <th>2</th>\n",
       "      <td>5</td>\n",
       "      <td>44</td>\n",
       "      <td>8</td>\n",
       "      <td>1.0</td>\n",
       "      <td>3</td>\n",
       "    </tr>\n",
       "    <tr>\n",
       "      <th>3</th>\n",
       "      <td>5</td>\n",
       "      <td>44</td>\n",
       "      <td>9</td>\n",
       "      <td>1.1</td>\n",
       "      <td>3</td>\n",
       "    </tr>\n",
       "    <tr>\n",
       "      <th>4</th>\n",
       "      <td>5</td>\n",
       "      <td>44</td>\n",
       "      <td>10</td>\n",
       "      <td>1.1</td>\n",
       "      <td>3</td>\n",
       "    </tr>\n",
       "  </tbody>\n",
       "</table>\n",
       "</div>"
      ],
      "text/plain": [
       "   EntityID  TemporalPropertyID  TimeStamp  TemporalPropertyValue  state\n",
       "0         5                  44          6                    1.0      3\n",
       "1         5                  44          7                    1.0      3\n",
       "2         5                  44          8                    1.0      3\n",
       "3         5                  44          9                    1.1      3\n",
       "4         5                  44         10                    1.1      3"
      ]
     },
     "metadata": {},
     "output_type": "display_data"
    },
    {
     "name": "stdout",
     "output_type": "stream",
     "text": [
      "TD4C states:\n",
      "{1: [15.0, 25.0], 2: [20.1], 3: [20.1, 30.0], 4: [20.0, 20.1], 5: [20.1], 6: [28.0, 30.0], 39: [6.3, 6.5], 40: [74.0, 86.0], 41: [150.0, 154.0], 42: [95.0, 119.0], 43: [3.9, 4.1], 44: [0.9, 0.91], 55: [1.0]}\n"
     ]
    }
   ],
   "source": [
    "from ta_package.methods.td4c import td4c\n",
    "\n",
    "# Apply TD4C using 3 bins, working per variable, with a chosen distance measure.\n",
    "symbolic_series, states = td4c(data, bins=3, distance_measure=\"kullback_leibler\")\n",
    "\n",
    "print(\"TD4C symbolic series:\")\n",
    "display(symbolic_series.head())\n",
    "print(\"TD4C states:\")\n",
    "print(states)\n"
   ]
  },
  {
   "cell_type": "markdown",
   "metadata": {},
   "source": [
    "### (b) High‑Level API Example (Single‑Method Mode)"
   ]
  },
  {
   "cell_type": "code",
   "execution_count": 7,
   "metadata": {},
   "outputs": [
    {
     "name": "stdout",
     "output_type": "stream",
     "text": [
      "Results saved in directory: ./output_test_hugobot/sax\n",
      "High-level SAX result:\n"
     ]
    },
    {
     "data": {
      "application/vnd.microsoft.datawrangler.viewer.v0+json": {
       "columns": [
        {
         "name": "index",
         "rawType": "int64",
         "type": "integer"
        },
        {
         "name": "EntityID",
         "rawType": "int64",
         "type": "integer"
        },
        {
         "name": "TemporalPropertyID",
         "rawType": "int64",
         "type": "integer"
        },
        {
         "name": "TimeStamp",
         "rawType": "float64",
         "type": "float"
        },
        {
         "name": "TemporalPropertyValue",
         "rawType": "float64",
         "type": "float"
        },
        {
         "name": "state",
         "rawType": "int64",
         "type": "integer"
        }
       ],
       "ref": "9b223405-dc60-4a20-b016-09335105fe39",
       "rows": [
        [
         "0",
         "5",
         "2",
         "2.0",
         "20.1",
         "3"
        ],
        [
         "1",
         "5",
         "2",
         "7.0",
         "20.1",
         "3"
        ],
        [
         "0",
         "5",
         "3",
         "2.0",
         "20.1",
         "1"
        ],
        [
         "1",
         "5",
         "3",
         "7.0",
         "20.1",
         "1"
        ],
        [
         "0",
         "5",
         "4",
         "2.0",
         "20.1",
         "2"
        ]
       ],
       "shape": {
        "columns": 5,
        "rows": 5
       }
      },
      "text/html": [
       "<div>\n",
       "<style scoped>\n",
       "    .dataframe tbody tr th:only-of-type {\n",
       "        vertical-align: middle;\n",
       "    }\n",
       "\n",
       "    .dataframe tbody tr th {\n",
       "        vertical-align: top;\n",
       "    }\n",
       "\n",
       "    .dataframe thead th {\n",
       "        text-align: right;\n",
       "    }\n",
       "</style>\n",
       "<table border=\"1\" class=\"dataframe\">\n",
       "  <thead>\n",
       "    <tr style=\"text-align: right;\">\n",
       "      <th></th>\n",
       "      <th>EntityID</th>\n",
       "      <th>TemporalPropertyID</th>\n",
       "      <th>TimeStamp</th>\n",
       "      <th>TemporalPropertyValue</th>\n",
       "      <th>state</th>\n",
       "    </tr>\n",
       "  </thead>\n",
       "  <tbody>\n",
       "    <tr>\n",
       "      <th>0</th>\n",
       "      <td>5</td>\n",
       "      <td>2</td>\n",
       "      <td>2.0</td>\n",
       "      <td>20.1</td>\n",
       "      <td>3</td>\n",
       "    </tr>\n",
       "    <tr>\n",
       "      <th>1</th>\n",
       "      <td>5</td>\n",
       "      <td>2</td>\n",
       "      <td>7.0</td>\n",
       "      <td>20.1</td>\n",
       "      <td>3</td>\n",
       "    </tr>\n",
       "    <tr>\n",
       "      <th>0</th>\n",
       "      <td>5</td>\n",
       "      <td>3</td>\n",
       "      <td>2.0</td>\n",
       "      <td>20.1</td>\n",
       "      <td>1</td>\n",
       "    </tr>\n",
       "    <tr>\n",
       "      <th>1</th>\n",
       "      <td>5</td>\n",
       "      <td>3</td>\n",
       "      <td>7.0</td>\n",
       "      <td>20.1</td>\n",
       "      <td>1</td>\n",
       "    </tr>\n",
       "    <tr>\n",
       "      <th>0</th>\n",
       "      <td>5</td>\n",
       "      <td>4</td>\n",
       "      <td>2.0</td>\n",
       "      <td>20.1</td>\n",
       "      <td>2</td>\n",
       "    </tr>\n",
       "  </tbody>\n",
       "</table>\n",
       "</div>"
      ],
      "text/plain": [
       "   EntityID  TemporalPropertyID  TimeStamp  TemporalPropertyValue  state\n",
       "0         5                   2        2.0                   20.1      3\n",
       "1         5                   2        7.0                   20.1      3\n",
       "0         5                   3        2.0                   20.1      1\n",
       "1         5                   3        7.0                   20.1      1\n",
       "0         5                   4        2.0                   20.1      2"
      ]
     },
     "metadata": {},
     "output_type": "display_data"
    },
    {
     "name": "stdout",
     "output_type": "stream",
     "text": [
      "High-level SAX states:\n",
      "{1: [-0.43072729929545756, 0.43072729929545744], 2: [-0.43072729929545756, 0.43072729929545744], 3: [-0.43072729929545756, 0.43072729929545744], 4: [-0.43072729929545756, 0.43072729929545744], 5: [-0.43072729929545756, 0.43072729929545744], 6: [-0.43072729929545756, 0.43072729929545744], 39: [-0.43072729929545756, 0.43072729929545744], 40: [-0.43072729929545756, 0.43072729929545744], 41: [-0.43072729929545756, 0.43072729929545744], 42: [-0.43072729929545756, 0.43072729929545744], 43: [-0.43072729929545756, 0.43072729929545744], 44: [-0.43072729929545756, 0.43072729929545744], 55: [-0.43072729929545756, 0.43072729929545744]}\n"
     ]
    }
   ],
   "source": [
    "from ta_package import TemporalAbstraction\n",
    "\n",
    "ta = TemporalAbstraction(data)\n",
    "\n",
    "# Use the high-level API to apply SAX (single-method mode).\n",
    "final_result, final_states = ta.apply(method=\"sax\", bins=3, per_variable=True, \n",
    "                                      paa=\"mean\", paa_window=5,\n",
    "                                      split_test=False, \n",
    "                                      save_output=True, output_dir= os.path.join(output_dir, \"sax\"), \n",
    "                                      max_gap=1)\n",
    "\n",
    "print(\"High-level SAX result:\")\n",
    "display(final_result.head())\n",
    "print(\"High-level SAX states:\")\n",
    "print(final_states)\n"
   ]
  },
  {
   "cell_type": "markdown",
   "metadata": {},
   "source": [
    "### Example of Different Methods for Different Variables (Composite Mode)"
   ]
  },
  {
   "cell_type": "code",
   "execution_count": 8,
   "metadata": {},
   "outputs": [
    {
     "name": "stdout",
     "output_type": "stream",
     "text": [
      "Results saved in directory: ./output_test_hugobot/output_composite\n",
      "Composite mode symbolic series:\n"
     ]
    },
    {
     "data": {
      "application/vnd.microsoft.datawrangler.viewer.v0+json": {
       "columns": [
        {
         "name": "index",
         "rawType": "int64",
         "type": "integer"
        },
        {
         "name": "EntityID",
         "rawType": "int64",
         "type": "integer"
        },
        {
         "name": "TemporalPropertyID",
         "rawType": "int64",
         "type": "integer"
        },
        {
         "name": "TimeStamp",
         "rawType": "int64",
         "type": "integer"
        },
        {
         "name": "TemporalPropertyValue",
         "rawType": "float64",
         "type": "float"
        },
        {
         "name": "StateID",
         "rawType": "int64",
         "type": "integer"
        },
        {
         "name": "MethodName",
         "rawType": "object",
         "type": "string"
        }
       ],
       "ref": "4c3587fe-5194-4066-bca2-63ee0765b23e",
       "rows": [
        [
         "0",
         "5",
         "44",
         "6",
         "1.0",
         "1",
         "equal_frequency"
        ],
        [
         "1",
         "5",
         "44",
         "7",
         "1.0",
         "1",
         "equal_frequency"
        ],
        [
         "2",
         "5",
         "44",
         "8",
         "1.0",
         "1",
         "equal_frequency"
        ],
        [
         "3",
         "5",
         "44",
         "9",
         "1.1",
         "2",
         "equal_frequency"
        ],
        [
         "4",
         "5",
         "44",
         "10",
         "1.1",
         "2",
         "equal_frequency"
        ]
       ],
       "shape": {
        "columns": 6,
        "rows": 5
       }
      },
      "text/html": [
       "<div>\n",
       "<style scoped>\n",
       "    .dataframe tbody tr th:only-of-type {\n",
       "        vertical-align: middle;\n",
       "    }\n",
       "\n",
       "    .dataframe tbody tr th {\n",
       "        vertical-align: top;\n",
       "    }\n",
       "\n",
       "    .dataframe thead th {\n",
       "        text-align: right;\n",
       "    }\n",
       "</style>\n",
       "<table border=\"1\" class=\"dataframe\">\n",
       "  <thead>\n",
       "    <tr style=\"text-align: right;\">\n",
       "      <th></th>\n",
       "      <th>EntityID</th>\n",
       "      <th>TemporalPropertyID</th>\n",
       "      <th>TimeStamp</th>\n",
       "      <th>TemporalPropertyValue</th>\n",
       "      <th>StateID</th>\n",
       "      <th>MethodName</th>\n",
       "    </tr>\n",
       "  </thead>\n",
       "  <tbody>\n",
       "    <tr>\n",
       "      <th>0</th>\n",
       "      <td>5</td>\n",
       "      <td>44</td>\n",
       "      <td>6</td>\n",
       "      <td>1.0</td>\n",
       "      <td>1</td>\n",
       "      <td>equal_frequency</td>\n",
       "    </tr>\n",
       "    <tr>\n",
       "      <th>1</th>\n",
       "      <td>5</td>\n",
       "      <td>44</td>\n",
       "      <td>7</td>\n",
       "      <td>1.0</td>\n",
       "      <td>1</td>\n",
       "      <td>equal_frequency</td>\n",
       "    </tr>\n",
       "    <tr>\n",
       "      <th>2</th>\n",
       "      <td>5</td>\n",
       "      <td>44</td>\n",
       "      <td>8</td>\n",
       "      <td>1.0</td>\n",
       "      <td>1</td>\n",
       "      <td>equal_frequency</td>\n",
       "    </tr>\n",
       "    <tr>\n",
       "      <th>3</th>\n",
       "      <td>5</td>\n",
       "      <td>44</td>\n",
       "      <td>9</td>\n",
       "      <td>1.1</td>\n",
       "      <td>2</td>\n",
       "      <td>equal_frequency</td>\n",
       "    </tr>\n",
       "    <tr>\n",
       "      <th>4</th>\n",
       "      <td>5</td>\n",
       "      <td>44</td>\n",
       "      <td>10</td>\n",
       "      <td>1.1</td>\n",
       "      <td>2</td>\n",
       "      <td>equal_frequency</td>\n",
       "    </tr>\n",
       "  </tbody>\n",
       "</table>\n",
       "</div>"
      ],
      "text/plain": [
       "   EntityID  TemporalPropertyID  TimeStamp  TemporalPropertyValue  StateID  \\\n",
       "0         5                  44          6                    1.0        1   \n",
       "1         5                  44          7                    1.0        1   \n",
       "2         5                  44          8                    1.0        1   \n",
       "3         5                  44          9                    1.1        2   \n",
       "4         5                  44         10                    1.1        2   \n",
       "\n",
       "        MethodName  \n",
       "0  equal_frequency  \n",
       "1  equal_frequency  \n",
       "2  equal_frequency  \n",
       "3  equal_frequency  \n",
       "4  equal_frequency  "
      ]
     },
     "metadata": {},
     "output_type": "display_data"
    },
    {
     "name": "stdout",
     "output_type": "stream",
     "text": [
      "Composite mode states:\n",
      "[{'StateID': 1, 'TemporalPropertyID': 44, 'MethodName': 'equal_frequency', 'BinId': 1, 'BinLow': -inf, 'BinHigh': 1.04}, {'StateID': 2, 'TemporalPropertyID': 44, 'MethodName': 'equal_frequency', 'BinId': 2, 'BinLow': 1.04, 'BinHigh': 1.107}, {'StateID': 3, 'TemporalPropertyID': 44, 'MethodName': 'equal_frequency', 'BinId': 3, 'BinLow': 1.107, 'BinHigh': inf}, {'StateID': 4, 'TemporalPropertyID': 55, 'MethodName': 'equal_frequency', 'BinId': 3, 'BinLow': 0.333, 'BinHigh': inf}, {'StateID': 5, 'TemporalPropertyID': 55, 'MethodName': 'equal_frequency', 'BinId': 2, 'BinLow': 0.0, 'BinHigh': 0.333}, {'StateID': 6, 'TemporalPropertyID': 1, 'MethodName': 'sax', 'BinId': 1, 'BinLow': -inf, 'BinHigh': -0.431}, {'StateID': 7, 'TemporalPropertyID': 1, 'MethodName': 'sax', 'BinId': 2, 'BinLow': -0.431, 'BinHigh': 0.431}, {'StateID': 8, 'TemporalPropertyID': 1, 'MethodName': 'sax', 'BinId': 3, 'BinLow': 0.431, 'BinHigh': inf}, {'StateID': 9, 'TemporalPropertyID': 5, 'MethodName': 'equal_frequency', 'BinId': 3, 'BinLow': 20.1, 'BinHigh': inf}, {'StateID': 10, 'TemporalPropertyID': 5, 'MethodName': 'equal_frequency', 'BinId': 1, 'BinLow': -inf, 'BinHigh': 17.067}, {'StateID': 11, 'TemporalPropertyID': 39, 'MethodName': 'equal_frequency', 'BinId': 3, 'BinLow': 8.3, 'BinHigh': inf}, {'StateID': 12, 'TemporalPropertyID': 39, 'MethodName': 'equal_frequency', 'BinId': 2, 'BinLow': 6.8, 'BinHigh': 8.3}, {'StateID': 13, 'TemporalPropertyID': 39, 'MethodName': 'equal_frequency', 'BinId': 1, 'BinLow': -inf, 'BinHigh': 6.8}, {'StateID': 14, 'TemporalPropertyID': 40, 'MethodName': 'equal_frequency', 'BinId': 3, 'BinLow': 101.0, 'BinHigh': inf}, {'StateID': 15, 'TemporalPropertyID': 40, 'MethodName': 'equal_frequency', 'BinId': 2, 'BinLow': 87.0, 'BinHigh': 101.0}, {'StateID': 16, 'TemporalPropertyID': 40, 'MethodName': 'equal_frequency', 'BinId': 1, 'BinLow': -inf, 'BinHigh': 87.0}, {'StateID': 17, 'TemporalPropertyID': 41, 'MethodName': 'equal_frequency', 'BinId': 3, 'BinLow': 173.0, 'BinHigh': inf}, {'StateID': 18, 'TemporalPropertyID': 41, 'MethodName': 'equal_frequency', 'BinId': 1, 'BinLow': -inf, 'BinHigh': 155.0}, {'StateID': 19, 'TemporalPropertyID': 41, 'MethodName': 'equal_frequency', 'BinId': 2, 'BinLow': 155.0, 'BinHigh': 173.0}, {'StateID': 20, 'TemporalPropertyID': 42, 'MethodName': 'equal_frequency', 'BinId': 3, 'BinLow': 184.0, 'BinHigh': inf}, {'StateID': 21, 'TemporalPropertyID': 42, 'MethodName': 'equal_frequency', 'BinId': 1, 'BinLow': -inf, 'BinHigh': 126.0}, {'StateID': 22, 'TemporalPropertyID': 42, 'MethodName': 'equal_frequency', 'BinId': 2, 'BinLow': 126.0, 'BinHigh': 184.0}, {'StateID': 23, 'TemporalPropertyID': 43, 'MethodName': 'equal_frequency', 'BinId': 1, 'BinLow': -inf, 'BinHigh': 4.1}, {'StateID': 24, 'TemporalPropertyID': 43, 'MethodName': 'equal_frequency', 'BinId': 3, 'BinLow': 4.3, 'BinHigh': inf}, {'StateID': 25, 'TemporalPropertyID': 43, 'MethodName': 'equal_frequency', 'BinId': 2, 'BinLow': 4.1, 'BinHigh': 4.3}, {'StateID': 26, 'TemporalPropertyID': 2, 'MethodName': 'gradient', 'BinId': 0, 'BinLow': -0.0, 'BinHigh': 0.0}, {'StateID': 27, 'TemporalPropertyID': 2, 'MethodName': 'gradient', 'BinId': 2, 'BinLow': -0.0, 'BinHigh': 0.0}, {'StateID': 28, 'TemporalPropertyID': 2, 'MethodName': 'gradient', 'BinId': 1, 'BinLow': -inf, 'BinHigh': -0.0}, {'StateID': 29, 'TemporalPropertyID': 3, 'MethodName': 'equal_frequency', 'BinId': 3, 'BinLow': 30.0, 'BinHigh': inf}, {'StateID': 30, 'TemporalPropertyID': 3, 'MethodName': 'equal_frequency', 'BinId': 1, 'BinLow': -inf, 'BinHigh': 30.0}, {'StateID': 31, 'TemporalPropertyID': 4, 'MethodName': 'equal_frequency', 'BinId': 2, 'BinLow': 11.0, 'BinHigh': 20.1}, {'StateID': 32, 'TemporalPropertyID': 4, 'MethodName': 'equal_frequency', 'BinId': 3, 'BinLow': 20.1, 'BinHigh': inf}, {'StateID': 33, 'TemporalPropertyID': 6, 'MethodName': 'equal_frequency', 'BinId': 1, 'BinLow': -inf, 'BinHigh': 30.0}, {'StateID': 34, 'TemporalPropertyID': 6, 'MethodName': 'equal_frequency', 'BinId': 2, 'BinLow': 30.0, 'BinHigh': 60.0}, {'StateID': 35, 'TemporalPropertyID': 6, 'MethodName': 'equal_frequency', 'BinId': 3, 'BinLow': 60.0, 'BinHigh': inf}]\n"
     ]
    }
   ],
   "source": [
    "# Composite configuration: for variable 1 use SAX, for variable 2 use Gradient.\n",
    "method_config = {\n",
    "    1: {\"method\": \"sax\", \"bins\": 3},\n",
    "    2: {\"method\": \"gradient\", \"bins\": 3, \"gradient_window_size\": 14, \"close_to_zero_percentage\": 10},  # Fixed window size\n",
    "    \"default\": {\"method\": \"equal_frequency\", \"bins\": 3}\n",
    "}\n",
    "\n",
    "ta = TemporalAbstraction(data)\n",
    "final_result, final_states = ta.apply(method_config=method_config,\n",
    "                                      split_test=False,\n",
    "                                      save_output=True,\n",
    "                                      output_dir=os.path.join(output_dir, \"output_composite\"),\n",
    "                                      max_gap=1)\n",
    "\n",
    "\n",
    "print(\"Composite mode symbolic series:\")\n",
    "display(final_result.head())\n",
    "print(\"Composite mode states:\")\n",
    "print(final_states)"
   ]
  },
  {
   "cell_type": "markdown",
   "metadata": {},
   "source": [
    "### 3. Example of Multiple Methods for All Variables (Composite Mode)"
   ]
  },
  {
   "cell_type": "code",
   "execution_count": 9,
   "metadata": {},
   "outputs": [
    {
     "name": "stdout",
     "output_type": "stream",
     "text": [
      "Results saved in directory: ./output_test_hugobot/multiple_methods\n",
      "Composite mode (multiple methods for each variable) symbolic series:\n"
     ]
    },
    {
     "data": {
      "application/vnd.microsoft.datawrangler.viewer.v0+json": {
       "columns": [
        {
         "name": "index",
         "rawType": "int64",
         "type": "integer"
        },
        {
         "name": "EntityID",
         "rawType": "int64",
         "type": "integer"
        },
        {
         "name": "TemporalPropertyID",
         "rawType": "int64",
         "type": "integer"
        },
        {
         "name": "TimeStamp",
         "rawType": "int64",
         "type": "integer"
        },
        {
         "name": "TemporalPropertyValue",
         "rawType": "float64",
         "type": "float"
        },
        {
         "name": "StateID",
         "rawType": "int64",
         "type": "integer"
        },
        {
         "name": "MethodName",
         "rawType": "object",
         "type": "string"
        }
       ],
       "ref": "2e345f7d-8607-497b-8493-f851fb720f52",
       "rows": [
        [
         "0",
         "5",
         "44",
         "6",
         "1.0",
         "4",
         "equal_width"
        ],
        [
         "1",
         "5",
         "44",
         "7",
         "1.0",
         "4",
         "equal_width"
        ],
        [
         "2",
         "5",
         "44",
         "8",
         "1.0",
         "4",
         "equal_width"
        ],
        [
         "3",
         "5",
         "44",
         "9",
         "1.1",
         "4",
         "equal_width"
        ],
        [
         "4",
         "5",
         "44",
         "10",
         "1.1",
         "4",
         "equal_width"
        ]
       ],
       "shape": {
        "columns": 6,
        "rows": 5
       }
      },
      "text/html": [
       "<div>\n",
       "<style scoped>\n",
       "    .dataframe tbody tr th:only-of-type {\n",
       "        vertical-align: middle;\n",
       "    }\n",
       "\n",
       "    .dataframe tbody tr th {\n",
       "        vertical-align: top;\n",
       "    }\n",
       "\n",
       "    .dataframe thead th {\n",
       "        text-align: right;\n",
       "    }\n",
       "</style>\n",
       "<table border=\"1\" class=\"dataframe\">\n",
       "  <thead>\n",
       "    <tr style=\"text-align: right;\">\n",
       "      <th></th>\n",
       "      <th>EntityID</th>\n",
       "      <th>TemporalPropertyID</th>\n",
       "      <th>TimeStamp</th>\n",
       "      <th>TemporalPropertyValue</th>\n",
       "      <th>StateID</th>\n",
       "      <th>MethodName</th>\n",
       "    </tr>\n",
       "  </thead>\n",
       "  <tbody>\n",
       "    <tr>\n",
       "      <th>0</th>\n",
       "      <td>5</td>\n",
       "      <td>44</td>\n",
       "      <td>6</td>\n",
       "      <td>1.0</td>\n",
       "      <td>4</td>\n",
       "      <td>equal_width</td>\n",
       "    </tr>\n",
       "    <tr>\n",
       "      <th>1</th>\n",
       "      <td>5</td>\n",
       "      <td>44</td>\n",
       "      <td>7</td>\n",
       "      <td>1.0</td>\n",
       "      <td>4</td>\n",
       "      <td>equal_width</td>\n",
       "    </tr>\n",
       "    <tr>\n",
       "      <th>2</th>\n",
       "      <td>5</td>\n",
       "      <td>44</td>\n",
       "      <td>8</td>\n",
       "      <td>1.0</td>\n",
       "      <td>4</td>\n",
       "      <td>equal_width</td>\n",
       "    </tr>\n",
       "    <tr>\n",
       "      <th>3</th>\n",
       "      <td>5</td>\n",
       "      <td>44</td>\n",
       "      <td>9</td>\n",
       "      <td>1.1</td>\n",
       "      <td>4</td>\n",
       "      <td>equal_width</td>\n",
       "    </tr>\n",
       "    <tr>\n",
       "      <th>4</th>\n",
       "      <td>5</td>\n",
       "      <td>44</td>\n",
       "      <td>10</td>\n",
       "      <td>1.1</td>\n",
       "      <td>4</td>\n",
       "      <td>equal_width</td>\n",
       "    </tr>\n",
       "  </tbody>\n",
       "</table>\n",
       "</div>"
      ],
      "text/plain": [
       "   EntityID  TemporalPropertyID  TimeStamp  TemporalPropertyValue  StateID  \\\n",
       "0         5                  44          6                    1.0        4   \n",
       "1         5                  44          7                    1.0        4   \n",
       "2         5                  44          8                    1.0        4   \n",
       "3         5                  44          9                    1.1        4   \n",
       "4         5                  44         10                    1.1        4   \n",
       "\n",
       "    MethodName  \n",
       "0  equal_width  \n",
       "1  equal_width  \n",
       "2  equal_width  \n",
       "3  equal_width  \n",
       "4  equal_width  "
      ]
     },
     "metadata": {},
     "output_type": "display_data"
    },
    {
     "name": "stdout",
     "output_type": "stream",
     "text": [
      "Composite mode (multiple methods) states:\n",
      "<class 'list'>\n",
      "[{'StateID': 1, 'TemporalPropertyID': 44, 'MethodName': 'sax', 'BinId': 1, 'BinLow': -inf, 'BinHigh': -0.431}, {'StateID': 2, 'TemporalPropertyID': 44, 'MethodName': 'sax', 'BinId': 2, 'BinLow': -0.431, 'BinHigh': 0.431}, {'StateID': 3, 'TemporalPropertyID': 44, 'MethodName': 'sax', 'BinId': 3, 'BinLow': 0.431, 'BinHigh': inf}, {'StateID': 4, 'TemporalPropertyID': 44, 'MethodName': 'equal_width', 'BinId': 1, 'BinLow': -inf, 'BinHigh': 1.102}, {'StateID': 5, 'TemporalPropertyID': 44, 'MethodName': 'equal_width', 'BinId': 2, 'BinLow': 1.102, 'BinHigh': 1.335}, {'StateID': 6, 'TemporalPropertyID': 44, 'MethodName': 'equal_width', 'BinId': 4, 'BinLow': 1.568, 'BinHigh': inf}, {'StateID': 7, 'TemporalPropertyID': 44, 'MethodName': 'gradient', 'BinId': 0, 'BinLow': 0.219, 'BinHigh': 0.409}, {'StateID': 8, 'TemporalPropertyID': 44, 'MethodName': 'gradient', 'BinId': 2, 'BinLow': 0.219, 'BinHigh': 0.409}, {'StateID': 9, 'TemporalPropertyID': 44, 'MethodName': 'gradient', 'BinId': 1, 'BinLow': -inf, 'BinHigh': 0.219}, {'StateID': 10, 'TemporalPropertyID': 55, 'MethodName': 'sax', 'BinId': 3, 'BinLow': 0.431, 'BinHigh': inf}, {'StateID': 11, 'TemporalPropertyID': 55, 'MethodName': 'sax', 'BinId': 1, 'BinLow': -inf, 'BinHigh': -0.431}, {'StateID': 12, 'TemporalPropertyID': 55, 'MethodName': 'equal_width', 'BinId': 4, 'BinLow': 0.75, 'BinHigh': inf}, {'StateID': 13, 'TemporalPropertyID': 55, 'MethodName': 'equal_width', 'BinId': 1, 'BinLow': -inf, 'BinHigh': 0.25}, {'StateID': 14, 'TemporalPropertyID': 1, 'MethodName': 'sax', 'BinId': 1, 'BinLow': -inf, 'BinHigh': -0.431}, {'StateID': 15, 'TemporalPropertyID': 1, 'MethodName': 'sax', 'BinId': 2, 'BinLow': -0.431, 'BinHigh': 0.431}, {'StateID': 16, 'TemporalPropertyID': 1, 'MethodName': 'sax', 'BinId': 3, 'BinLow': 0.431, 'BinHigh': inf}, {'StateID': 17, 'TemporalPropertyID': 1, 'MethodName': 'equal_width', 'BinId': 1, 'BinLow': -inf, 'BinHigh': 30.6}, {'StateID': 18, 'TemporalPropertyID': 1, 'MethodName': 'equal_width', 'BinId': 2, 'BinLow': 30.6, 'BinHigh': 48.3}, {'StateID': 19, 'TemporalPropertyID': 1, 'MethodName': 'equal_width', 'BinId': 3, 'BinLow': 48.3, 'BinHigh': 66.0}, {'StateID': 20, 'TemporalPropertyID': 1, 'MethodName': 'equal_width', 'BinId': 4, 'BinLow': 66.0, 'BinHigh': inf}, {'StateID': 21, 'TemporalPropertyID': 1, 'MethodName': 'gradient', 'BinId': 0, 'BinLow': 25.001, 'BinHigh': 41.672}, {'StateID': 22, 'TemporalPropertyID': 1, 'MethodName': 'gradient', 'BinId': 2, 'BinLow': 25.001, 'BinHigh': 41.672}, {'StateID': 23, 'TemporalPropertyID': 1, 'MethodName': 'gradient', 'BinId': 1, 'BinLow': -inf, 'BinHigh': 25.001}, {'StateID': 24, 'TemporalPropertyID': 5, 'MethodName': 'sax', 'BinId': 3, 'BinLow': 0.431, 'BinHigh': inf}, {'StateID': 25, 'TemporalPropertyID': 5, 'MethodName': 'sax', 'BinId': 1, 'BinLow': -inf, 'BinHigh': -0.431}, {'StateID': 26, 'TemporalPropertyID': 5, 'MethodName': 'equal_width', 'BinId': 4, 'BinLow': 17.825, 'BinHigh': inf}, {'StateID': 27, 'TemporalPropertyID': 5, 'MethodName': 'equal_width', 'BinId': 1, 'BinLow': -inf, 'BinHigh': 13.275}, {'StateID': 28, 'TemporalPropertyID': 5, 'MethodName': 'gradient', 'BinId': 0, 'BinLow': -0.0, 'BinHigh': -0.0}, {'StateID': 29, 'TemporalPropertyID': 5, 'MethodName': 'gradient', 'BinId': 1, 'BinLow': -inf, 'BinHigh': -0.0}, {'StateID': 30, 'TemporalPropertyID': 5, 'MethodName': 'gradient', 'BinId': 2, 'BinLow': -0.0, 'BinHigh': -0.0}, {'StateID': 31, 'TemporalPropertyID': 39, 'MethodName': 'sax', 'BinId': 3, 'BinLow': 0.431, 'BinHigh': inf}, {'StateID': 32, 'TemporalPropertyID': 39, 'MethodName': 'sax', 'BinId': 2, 'BinLow': -0.431, 'BinHigh': 0.431}, {'StateID': 33, 'TemporalPropertyID': 39, 'MethodName': 'sax', 'BinId': 1, 'BinLow': -inf, 'BinHigh': -0.431}, {'StateID': 34, 'TemporalPropertyID': 39, 'MethodName': 'equal_width', 'BinId': 4, 'BinLow': 10.5, 'BinHigh': inf}, {'StateID': 35, 'TemporalPropertyID': 39, 'MethodName': 'equal_width', 'BinId': 2, 'BinLow': 7.3, 'BinHigh': 8.9}, {'StateID': 36, 'TemporalPropertyID': 39, 'MethodName': 'equal_width', 'BinId': 3, 'BinLow': 8.9, 'BinHigh': 10.5}, {'StateID': 37, 'TemporalPropertyID': 39, 'MethodName': 'equal_width', 'BinId': 1, 'BinLow': -inf, 'BinHigh': 7.3}, {'StateID': 38, 'TemporalPropertyID': 39, 'MethodName': 'gradient', 'BinId': 2, 'BinLow': -6.199, 'BinHigh': -4.759}, {'StateID': 39, 'TemporalPropertyID': 39, 'MethodName': 'gradient', 'BinId': 0, 'BinLow': -6.199, 'BinHigh': -4.759}, {'StateID': 40, 'TemporalPropertyID': 39, 'MethodName': 'gradient', 'BinId': 1, 'BinLow': -inf, 'BinHigh': -6.199}, {'StateID': 41, 'TemporalPropertyID': 40, 'MethodName': 'sax', 'BinId': 3, 'BinLow': 0.431, 'BinHigh': inf}, {'StateID': 42, 'TemporalPropertyID': 40, 'MethodName': 'sax', 'BinId': 2, 'BinLow': -0.431, 'BinHigh': 0.431}, {'StateID': 43, 'TemporalPropertyID': 40, 'MethodName': 'sax', 'BinId': 1, 'BinLow': -inf, 'BinHigh': -0.431}, {'StateID': 44, 'TemporalPropertyID': 40, 'MethodName': 'equal_width', 'BinId': 4, 'BinLow': 132.75, 'BinHigh': inf}, {'StateID': 45, 'TemporalPropertyID': 40, 'MethodName': 'equal_width', 'BinId': 2, 'BinLow': 92.25, 'BinHigh': 112.5}, {'StateID': 46, 'TemporalPropertyID': 40, 'MethodName': 'equal_width', 'BinId': 3, 'BinLow': 112.5, 'BinHigh': 132.75}, {'StateID': 47, 'TemporalPropertyID': 40, 'MethodName': 'equal_width', 'BinId': 1, 'BinLow': -inf, 'BinHigh': 92.25}, {'StateID': 48, 'TemporalPropertyID': 40, 'MethodName': 'gradient', 'BinId': 2, 'BinLow': -32.04, 'BinHigh': 0.0}, {'StateID': 49, 'TemporalPropertyID': 40, 'MethodName': 'gradient', 'BinId': 0, 'BinLow': -32.04, 'BinHigh': 0.0}, {'StateID': 50, 'TemporalPropertyID': 40, 'MethodName': 'gradient', 'BinId': 1, 'BinLow': -inf, 'BinHigh': -32.04}, {'StateID': 51, 'TemporalPropertyID': 41, 'MethodName': 'sax', 'BinId': 3, 'BinLow': 0.431, 'BinHigh': inf}, {'StateID': 52, 'TemporalPropertyID': 41, 'MethodName': 'sax', 'BinId': 1, 'BinLow': -inf, 'BinHigh': -0.431}, {'StateID': 53, 'TemporalPropertyID': 41, 'MethodName': 'sax', 'BinId': 2, 'BinLow': -0.431, 'BinHigh': 0.431}, {'StateID': 54, 'TemporalPropertyID': 41, 'MethodName': 'equal_width', 'BinId': 2, 'BinLow': 168.75, 'BinHigh': 192.5}, {'StateID': 55, 'TemporalPropertyID': 41, 'MethodName': 'equal_width', 'BinId': 4, 'BinLow': 216.25, 'BinHigh': inf}, {'StateID': 56, 'TemporalPropertyID': 41, 'MethodName': 'equal_width', 'BinId': 3, 'BinLow': 192.5, 'BinHigh': 216.25}, {'StateID': 57, 'TemporalPropertyID': 41, 'MethodName': 'equal_width', 'BinId': 1, 'BinLow': -inf, 'BinHigh': 168.75}, {'StateID': 58, 'TemporalPropertyID': 41, 'MethodName': 'gradient', 'BinId': 1, 'BinLow': -inf, 'BinHigh': -0.0}, {'StateID': 59, 'TemporalPropertyID': 41, 'MethodName': 'gradient', 'BinId': 0, 'BinLow': -0.0, 'BinHigh': 10.443}, {'StateID': 60, 'TemporalPropertyID': 41, 'MethodName': 'gradient', 'BinId': 2, 'BinLow': -0.0, 'BinHigh': 10.443}, {'StateID': 61, 'TemporalPropertyID': 42, 'MethodName': 'sax', 'BinId': 3, 'BinLow': 0.431, 'BinHigh': inf}, {'StateID': 62, 'TemporalPropertyID': 42, 'MethodName': 'sax', 'BinId': 1, 'BinLow': -inf, 'BinHigh': -0.431}, {'StateID': 63, 'TemporalPropertyID': 42, 'MethodName': 'sax', 'BinId': 2, 'BinLow': -0.431, 'BinHigh': 0.431}, {'StateID': 64, 'TemporalPropertyID': 42, 'MethodName': 'equal_width', 'BinId': 4, 'BinLow': 251.25, 'BinHigh': inf}, {'StateID': 65, 'TemporalPropertyID': 42, 'MethodName': 'equal_width', 'BinId': 2, 'BinLow': 133.75, 'BinHigh': 192.5}, {'StateID': 66, 'TemporalPropertyID': 42, 'MethodName': 'equal_width', 'BinId': 3, 'BinLow': 192.5, 'BinHigh': 251.25}, {'StateID': 67, 'TemporalPropertyID': 42, 'MethodName': 'equal_width', 'BinId': 1, 'BinLow': -inf, 'BinHigh': 133.75}, {'StateID': 68, 'TemporalPropertyID': 42, 'MethodName': 'gradient', 'BinId': 2, 'BinLow': -68.227, 'BinHigh': -0.0}, {'StateID': 69, 'TemporalPropertyID': 42, 'MethodName': 'gradient', 'BinId': 1, 'BinLow': -inf, 'BinHigh': -68.227}, {'StateID': 70, 'TemporalPropertyID': 42, 'MethodName': 'gradient', 'BinId': 0, 'BinLow': -68.227, 'BinHigh': -0.0}, {'StateID': 71, 'TemporalPropertyID': 43, 'MethodName': 'sax', 'BinId': 1, 'BinLow': -inf, 'BinHigh': -0.431}, {'StateID': 72, 'TemporalPropertyID': 43, 'MethodName': 'sax', 'BinId': 3, 'BinLow': 0.431, 'BinHigh': inf}, {'StateID': 73, 'TemporalPropertyID': 43, 'MethodName': 'sax', 'BinId': 2, 'BinLow': -0.431, 'BinHigh': 0.431}, {'StateID': 74, 'TemporalPropertyID': 43, 'MethodName': 'equal_width', 'BinId': 1, 'BinLow': -inf, 'BinHigh': 4.0}, {'StateID': 75, 'TemporalPropertyID': 43, 'MethodName': 'equal_width', 'BinId': 3, 'BinLow': 4.3, 'BinHigh': 4.6}, {'StateID': 76, 'TemporalPropertyID': 43, 'MethodName': 'equal_width', 'BinId': 4, 'BinLow': 4.6, 'BinHigh': inf}, {'StateID': 77, 'TemporalPropertyID': 43, 'MethodName': 'equal_width', 'BinId': 2, 'BinLow': 4.0, 'BinHigh': 4.3}, {'StateID': 78, 'TemporalPropertyID': 43, 'MethodName': 'gradient', 'BinId': 0, 'BinLow': 0.259, 'BinHigh': 0.637}, {'StateID': 79, 'TemporalPropertyID': 43, 'MethodName': 'gradient', 'BinId': 2, 'BinLow': 0.259, 'BinHigh': 0.637}, {'StateID': 80, 'TemporalPropertyID': 43, 'MethodName': 'gradient', 'BinId': 1, 'BinLow': -inf, 'BinHigh': 0.259}, {'StateID': 81, 'TemporalPropertyID': 2, 'MethodName': 'sax', 'BinId': 3, 'BinLow': 0.431, 'BinHigh': inf}, {'StateID': 82, 'TemporalPropertyID': 2, 'MethodName': 'sax', 'BinId': 1, 'BinLow': -inf, 'BinHigh': -0.431}, {'StateID': 83, 'TemporalPropertyID': 2, 'MethodName': 'equal_width', 'BinId': 4, 'BinLow': 17.825, 'BinHigh': inf}, {'StateID': 84, 'TemporalPropertyID': 2, 'MethodName': 'equal_width', 'BinId': 1, 'BinLow': -inf, 'BinHigh': 13.275}, {'StateID': 85, 'TemporalPropertyID': 2, 'MethodName': 'gradient', 'BinId': 0, 'BinLow': -0.0, 'BinHigh': 0.0}, {'StateID': 86, 'TemporalPropertyID': 2, 'MethodName': 'gradient', 'BinId': 1, 'BinLow': -inf, 'BinHigh': -0.0}, {'StateID': 87, 'TemporalPropertyID': 2, 'MethodName': 'gradient', 'BinId': 2, 'BinLow': -0.0, 'BinHigh': 0.0}, {'StateID': 88, 'TemporalPropertyID': 3, 'MethodName': 'sax', 'BinId': 3, 'BinLow': 0.431, 'BinHigh': inf}, {'StateID': 89, 'TemporalPropertyID': 3, 'MethodName': 'sax', 'BinId': 1, 'BinLow': -inf, 'BinHigh': -0.431}, {'StateID': 90, 'TemporalPropertyID': 3, 'MethodName': 'equal_width', 'BinId': 4, 'BinLow': 25.25, 'BinHigh': inf}, {'StateID': 91, 'TemporalPropertyID': 3, 'MethodName': 'equal_width', 'BinId': 2, 'BinLow': 15.75, 'BinHigh': 20.5}, {'StateID': 92, 'TemporalPropertyID': 3, 'MethodName': 'equal_width', 'BinId': 1, 'BinLow': -inf, 'BinHigh': 15.75}, {'StateID': 93, 'TemporalPropertyID': 3, 'MethodName': 'gradient', 'BinId': 0, 'BinLow': 0.0, 'BinHigh': 19.905}, {'StateID': 94, 'TemporalPropertyID': 3, 'MethodName': 'gradient', 'BinId': 1, 'BinLow': -inf, 'BinHigh': 0.0}, {'StateID': 95, 'TemporalPropertyID': 3, 'MethodName': 'gradient', 'BinId': 2, 'BinLow': 0.0, 'BinHigh': 19.905}, {'StateID': 96, 'TemporalPropertyID': 4, 'MethodName': 'sax', 'BinId': 2, 'BinLow': -0.431, 'BinHigh': 0.431}, {'StateID': 97, 'TemporalPropertyID': 4, 'MethodName': 'sax', 'BinId': 3, 'BinLow': 0.431, 'BinHigh': inf}, {'StateID': 98, 'TemporalPropertyID': 4, 'MethodName': 'sax', 'BinId': 1, 'BinLow': -inf, 'BinHigh': -0.431}, {'StateID': 99, 'TemporalPropertyID': 4, 'MethodName': 'equal_width', 'BinId': 2, 'BinLow': 15.75, 'BinHigh': 20.5}, {'StateID': 100, 'TemporalPropertyID': 4, 'MethodName': 'equal_width', 'BinId': 4, 'BinLow': 25.25, 'BinHigh': inf}, {'StateID': 101, 'TemporalPropertyID': 4, 'MethodName': 'equal_width', 'BinId': 1, 'BinLow': -inf, 'BinHigh': 15.75}, {'StateID': 102, 'TemporalPropertyID': 4, 'MethodName': 'gradient', 'BinId': 0, 'BinLow': -0.0, 'BinHigh': 3.932}, {'StateID': 103, 'TemporalPropertyID': 4, 'MethodName': 'gradient', 'BinId': 1, 'BinLow': -inf, 'BinHigh': -0.0}, {'StateID': 104, 'TemporalPropertyID': 4, 'MethodName': 'gradient', 'BinId': 2, 'BinLow': -0.0, 'BinHigh': 3.932}, {'StateID': 105, 'TemporalPropertyID': 6, 'MethodName': 'sax', 'BinId': 1, 'BinLow': -inf, 'BinHigh': -0.431}, {'StateID': 106, 'TemporalPropertyID': 6, 'MethodName': 'sax', 'BinId': 3, 'BinLow': 0.431, 'BinHigh': inf}, {'StateID': 107, 'TemporalPropertyID': 6, 'MethodName': 'equal_width', 'BinId': 1, 'BinLow': -inf, 'BinHigh': 33.75}, {'StateID': 108, 'TemporalPropertyID': 6, 'MethodName': 'equal_width', 'BinId': 3, 'BinLow': 52.5, 'BinHigh': 71.25}, {'StateID': 109, 'TemporalPropertyID': 6, 'MethodName': 'equal_width', 'BinId': 4, 'BinLow': 71.25, 'BinHigh': inf}, {'StateID': 110, 'TemporalPropertyID': 6, 'MethodName': 'gradient', 'BinId': 2, 'BinLow': 47.409, 'BinHigh': 49.257}, {'StateID': 111, 'TemporalPropertyID': 6, 'MethodName': 'gradient', 'BinId': 0, 'BinLow': 47.409, 'BinHigh': 49.257}, {'StateID': 112, 'TemporalPropertyID': 6, 'MethodName': 'gradient', 'BinId': 1, 'BinLow': -inf, 'BinHigh': 47.409}]\n"
     ]
    }
   ],
   "source": [
    "method_config = {\n",
    "    \"default\": [\n",
    "         {\"method\": \"sax\", \"bins\": 3},\n",
    "         {\"method\": \"equal_width\", \"bins\": 4},\n",
    "         {\"method\": \"gradient\", \"bins\": 3, \"gradient_window_size\": 180}  # Fixed window size\n",
    "       ]\n",
    "}\n",
    "\n",
    "ta = TemporalAbstraction(data)\n",
    "final_result, final_states = ta.apply(method_config=method_config,\n",
    "                                      split_test=False,\n",
    "                                      save_output=True,\n",
    "                                      output_dir= os.path.join(output_dir, \"multiple_methods\"),\n",
    "                                      max_gap=1)\n",
    "\n",
    "print(\"Composite mode (multiple methods for each variable) symbolic series:\")\n",
    "display(final_result.head())\n",
    "print(\"Composite mode (multiple methods) states:\")\n",
    "print(type(final_states))\n",
    "print(final_states)\n",
    "# convert states to dict of varbile id: [cuttoff1, cutoff2, ...]\n",
    "# final_states_dict = {k: v for k, v in final_states.items() if isinstance(v, list)}"
   ]
  },
  {
   "cell_type": "markdown",
   "metadata": {},
   "source": [
    "### 4. Examples of Using Different PAA Methods in Single Mode"
   ]
  },
  {
   "cell_type": "code",
   "execution_count": 10,
   "metadata": {},
   "outputs": [
    {
     "name": "stdout",
     "output_type": "stream",
     "text": [
      "Results saved in directory: ./output_test_hugobot/paa_mean\n",
      "SAX with PAA mean result:\n"
     ]
    },
    {
     "data": {
      "application/vnd.microsoft.datawrangler.viewer.v0+json": {
       "columns": [
        {
         "name": "index",
         "rawType": "int64",
         "type": "integer"
        },
        {
         "name": "EntityID",
         "rawType": "int64",
         "type": "integer"
        },
        {
         "name": "TemporalPropertyID",
         "rawType": "int64",
         "type": "integer"
        },
        {
         "name": "TimeStamp",
         "rawType": "float64",
         "type": "float"
        },
        {
         "name": "TemporalPropertyValue",
         "rawType": "float64",
         "type": "float"
        },
        {
         "name": "state",
         "rawType": "int64",
         "type": "integer"
        }
       ],
       "ref": "249d2fa5-9e45-4776-821d-9bbac4bdc555",
       "rows": [
        [
         "0",
         "5",
         "2",
         "3.0",
         "20.1",
         "3"
        ],
        [
         "1",
         "5",
         "2",
         "8.0",
         "20.1",
         "3"
        ],
        [
         "2",
         "5",
         "2",
         "12.0",
         "20.1",
         "3"
        ],
        [
         "0",
         "5",
         "3",
         "3.0",
         "20.1",
         "1"
        ],
        [
         "1",
         "5",
         "3",
         "8.0",
         "20.1",
         "1"
        ],
        [
         "2",
         "5",
         "3",
         "12.0",
         "20.1",
         "1"
        ],
        [
         "0",
         "5",
         "4",
         "3.0",
         "20.1",
         "3"
        ],
        [
         "1",
         "5",
         "4",
         "8.0",
         "20.1",
         "3"
        ],
        [
         "2",
         "5",
         "4",
         "12.0",
         "20.1",
         "3"
        ],
        [
         "0",
         "5",
         "5",
         "3.0",
         "20.1",
         "3"
        ],
        [
         "1",
         "5",
         "5",
         "8.0",
         "20.1",
         "3"
        ],
        [
         "2",
         "5",
         "5",
         "12.0",
         "20.1",
         "3"
        ],
        [
         "0",
         "5",
         "44",
         "2.0",
         "1.025",
         "1"
        ],
        [
         "1",
         "5",
         "44",
         "3.0",
         "1.1",
         "2"
        ],
        [
         "2",
         "5",
         "44",
         "4.0",
         "1.1",
         "2"
        ],
        [
         "3",
         "5",
         "44",
         "5.0",
         "1.1",
         "2"
        ],
        [
         "4",
         "5",
         "44",
         "6.0",
         "1.025",
         "1"
        ],
        [
         "5",
         "5",
         "44",
         "7.0",
         "1.0",
         "1"
        ],
        [
         "6",
         "5",
         "44",
         "8.0",
         "1.0",
         "1"
        ],
        [
         "7",
         "5",
         "44",
         "9.0",
         "1.0",
         "1"
        ],
        [
         "8",
         "5",
         "44",
         "10.0",
         "1.0150000000000001",
         "1"
        ],
        [
         "9",
         "5",
         "44",
         "11.0",
         "1.06",
         "2"
        ],
        [
         "10",
         "5",
         "44",
         "12.0",
         "1.06",
         "2"
        ],
        [
         "11",
         "5",
         "44",
         "13.0",
         "0.87",
         "1"
        ],
        [
         "12",
         "5",
         "44",
         "14.0",
         "0.96",
         "1"
        ],
        [
         "13",
         "5",
         "44",
         "15.0",
         "0.935",
         "1"
        ],
        [
         "14",
         "5",
         "44",
         "16.0",
         "0.9299999999999999",
         "1"
        ],
        [
         "15",
         "5",
         "44",
         "17.0",
         "0.99",
         "1"
        ],
        [
         "0",
         "5",
         "55",
         "1.0",
         "1.0",
         "3"
        ],
        [
         "0",
         "6",
         "1",
         "2.0",
         "19.875",
         "1"
        ],
        [
         "1",
         "6",
         "1",
         "3.0",
         "38.7",
         "3"
        ],
        [
         "2",
         "6",
         "1",
         "5.0",
         "36.525000000000006",
         "2"
        ],
        [
         "3",
         "6",
         "1",
         "6.0",
         "32.775000000000006",
         "2"
        ],
        [
         "4",
         "6",
         "1",
         "8.0",
         "53.7",
         "3"
        ],
        [
         "5",
         "6",
         "1",
         "10.0",
         "49.95",
         "3"
        ],
        [
         "6",
         "6",
         "1",
         "11.0",
         "51.525000000000006",
         "3"
        ],
        [
         "0",
         "6",
         "2",
         "4.0",
         "20.1",
         "3"
        ],
        [
         "1",
         "6",
         "2",
         "5.0",
         "20.1",
         "3"
        ],
        [
         "2",
         "6",
         "2",
         "12.0",
         "20.1",
         "3"
        ],
        [
         "3",
         "6",
         "2",
         "13.0",
         "20.1",
         "3"
        ],
        [
         "0",
         "6",
         "3",
         "5.0",
         "30.0",
         "3"
        ],
        [
         "1",
         "6",
         "3",
         "9.0",
         "30.0",
         "3"
        ],
        [
         "2",
         "6",
         "3",
         "10.0",
         "30.0",
         "3"
        ],
        [
         "3",
         "6",
         "3",
         "11.0",
         "30.0",
         "3"
        ],
        [
         "4",
         "6",
         "3",
         "12.0",
         "30.0",
         "3"
        ],
        [
         "5",
         "6",
         "3",
         "13.0",
         "30.0",
         "3"
        ],
        [
         "0",
         "6",
         "4",
         "4.0",
         "26.0",
         "3"
        ],
        [
         "0",
         "6",
         "5",
         "3.0",
         "20.1",
         "3"
        ],
        [
         "1",
         "6",
         "5",
         "8.0",
         "20.1",
         "3"
        ],
        [
         "0",
         "6",
         "39",
         "1.0",
         "12.1",
         "3"
        ]
       ],
       "shape": {
        "columns": 5,
        "rows": 296
       }
      },
      "text/html": [
       "<div>\n",
       "<style scoped>\n",
       "    .dataframe tbody tr th:only-of-type {\n",
       "        vertical-align: middle;\n",
       "    }\n",
       "\n",
       "    .dataframe tbody tr th {\n",
       "        vertical-align: top;\n",
       "    }\n",
       "\n",
       "    .dataframe thead th {\n",
       "        text-align: right;\n",
       "    }\n",
       "</style>\n",
       "<table border=\"1\" class=\"dataframe\">\n",
       "  <thead>\n",
       "    <tr style=\"text-align: right;\">\n",
       "      <th></th>\n",
       "      <th>EntityID</th>\n",
       "      <th>TemporalPropertyID</th>\n",
       "      <th>TimeStamp</th>\n",
       "      <th>TemporalPropertyValue</th>\n",
       "      <th>state</th>\n",
       "    </tr>\n",
       "  </thead>\n",
       "  <tbody>\n",
       "    <tr>\n",
       "      <th>0</th>\n",
       "      <td>5</td>\n",
       "      <td>2</td>\n",
       "      <td>3.0</td>\n",
       "      <td>20.1</td>\n",
       "      <td>3</td>\n",
       "    </tr>\n",
       "    <tr>\n",
       "      <th>1</th>\n",
       "      <td>5</td>\n",
       "      <td>2</td>\n",
       "      <td>8.0</td>\n",
       "      <td>20.1</td>\n",
       "      <td>3</td>\n",
       "    </tr>\n",
       "    <tr>\n",
       "      <th>2</th>\n",
       "      <td>5</td>\n",
       "      <td>2</td>\n",
       "      <td>12.0</td>\n",
       "      <td>20.1</td>\n",
       "      <td>3</td>\n",
       "    </tr>\n",
       "    <tr>\n",
       "      <th>0</th>\n",
       "      <td>5</td>\n",
       "      <td>3</td>\n",
       "      <td>3.0</td>\n",
       "      <td>20.1</td>\n",
       "      <td>1</td>\n",
       "    </tr>\n",
       "    <tr>\n",
       "      <th>1</th>\n",
       "      <td>5</td>\n",
       "      <td>3</td>\n",
       "      <td>8.0</td>\n",
       "      <td>20.1</td>\n",
       "      <td>1</td>\n",
       "    </tr>\n",
       "    <tr>\n",
       "      <th>...</th>\n",
       "      <td>...</td>\n",
       "      <td>...</td>\n",
       "      <td>...</td>\n",
       "      <td>...</td>\n",
       "      <td>...</td>\n",
       "    </tr>\n",
       "    <tr>\n",
       "      <th>6</th>\n",
       "      <td>8</td>\n",
       "      <td>42</td>\n",
       "      <td>12.0</td>\n",
       "      <td>75.0</td>\n",
       "      <td>1</td>\n",
       "    </tr>\n",
       "    <tr>\n",
       "      <th>7</th>\n",
       "      <td>8</td>\n",
       "      <td>42</td>\n",
       "      <td>13.0</td>\n",
       "      <td>75.0</td>\n",
       "      <td>1</td>\n",
       "    </tr>\n",
       "    <tr>\n",
       "      <th>8</th>\n",
       "      <td>8</td>\n",
       "      <td>42</td>\n",
       "      <td>14.0</td>\n",
       "      <td>75.0</td>\n",
       "      <td>1</td>\n",
       "    </tr>\n",
       "    <tr>\n",
       "      <th>9</th>\n",
       "      <td>8</td>\n",
       "      <td>42</td>\n",
       "      <td>15.0</td>\n",
       "      <td>75.0</td>\n",
       "      <td>1</td>\n",
       "    </tr>\n",
       "    <tr>\n",
       "      <th>10</th>\n",
       "      <td>8</td>\n",
       "      <td>42</td>\n",
       "      <td>16.0</td>\n",
       "      <td>75.0</td>\n",
       "      <td>1</td>\n",
       "    </tr>\n",
       "  </tbody>\n",
       "</table>\n",
       "<p>296 rows × 5 columns</p>\n",
       "</div>"
      ],
      "text/plain": [
       "    EntityID  TemporalPropertyID  TimeStamp  TemporalPropertyValue  state\n",
       "0          5                   2        3.0                   20.1      3\n",
       "1          5                   2        8.0                   20.1      3\n",
       "2          5                   2       12.0                   20.1      3\n",
       "0          5                   3        3.0                   20.1      1\n",
       "1          5                   3        8.0                   20.1      1\n",
       "..       ...                 ...        ...                    ...    ...\n",
       "6          8                  42       12.0                   75.0      1\n",
       "7          8                  42       13.0                   75.0      1\n",
       "8          8                  42       14.0                   75.0      1\n",
       "9          8                  42       15.0                   75.0      1\n",
       "10         8                  42       16.0                   75.0      1\n",
       "\n",
       "[296 rows x 5 columns]"
      ]
     },
     "metadata": {},
     "output_type": "display_data"
    },
    {
     "name": "stdout",
     "output_type": "stream",
     "text": [
      "{1: [-0.43072729929545756, 0.43072729929545744], 2: [-0.43072729929545756, 0.43072729929545744], 3: [-0.43072729929545756, 0.43072729929545744], 4: [-0.43072729929545756, 0.43072729929545744], 5: [-0.43072729929545756, 0.43072729929545744], 6: [-0.43072729929545756, 0.43072729929545744], 39: [-0.43072729929545756, 0.43072729929545744], 40: [-0.43072729929545756, 0.43072729929545744], 41: [-0.43072729929545756, 0.43072729929545744], 42: [-0.43072729929545756, 0.43072729929545744], 43: [-0.43072729929545756, 0.43072729929545744], 44: [-0.43072729929545756, 0.43072729929545744], 55: [-0.43072729929545756, 0.43072729929545744]}\n"
     ]
    }
   ],
   "source": [
    "from ta_package import TemporalAbstraction\n",
    "\n",
    "ta = TemporalAbstraction(data)\n",
    "\n",
    "final_result, final_states = ta.apply(method=\"sax\", bins=3, per_variable=True, \n",
    "                                      paa=\"mean\", paa_window=4, \n",
    "                                      split_test=False, \n",
    "                                      save_output=True,output_dir=os.path.join(output_dir, \"paa_mean\"), \n",
    "                                      max_gap=1)\n",
    "\n",
    "print(\"SAX with PAA mean result:\")\n",
    "display(final_result)\n",
    "print(final_states)"
   ]
  },
  {
   "cell_type": "markdown",
   "metadata": {},
   "source": [
    "### 5. Knowledge Base Example"
   ]
  },
  {
   "cell_type": "code",
   "execution_count": 12,
   "metadata": {},
   "outputs": [
    {
     "name": "stdout",
     "output_type": "stream",
     "text": [
      "Results saved in directory: ./output_test_hugobot/train_sax\n",
      "Results saved in directory: ./output_test_hugobot/knowledge_test\n"
     ]
    }
   ],
   "source": [
    "from ta_package import TemporalAbstraction\n",
    "from ta_package.utils import split_train_test\n",
    "\n",
    "train_data, test_data = split_train_test(data, train_ratio=0.8)\n",
    "\n",
    "ta = TemporalAbstraction(train_data)\n",
    "\n",
    "train_results, train_states = ta.apply(method=\"sax\", bins=3, per_variable=True, \n",
    "                                      paa=\"mean\", paa_window=4, \n",
    "                                      split_test=False, \n",
    "                                      save_output=True,output_dir=os.path.join(output_dir, \"train_sax\"), \n",
    "                                      max_gap=1)\n",
    "\n",
    "test_ta = TemporalAbstraction(test_data)\n",
    "\n",
    "test_results, test_states = test_ta.apply(method = \"knowledge\", train_states=train_states,\n",
    "                         split_test=False, \n",
    "                         save_output=True, output_dir=os.path.join(output_dir, \"knowledge_test\"),\n",
    "                         max_gap=1)\n",
    "\n"
   ]
  },
  {
   "cell_type": "code",
   "execution_count": 13,
   "metadata": {},
   "outputs": [
    {
     "name": "stdout",
     "output_type": "stream",
     "text": [
      "Results saved in directory: ./output_test_hugobot/paa_max\n",
      "EqualWidth with PAA max result:\n"
     ]
    },
    {
     "data": {
      "application/vnd.microsoft.datawrangler.viewer.v0+json": {
       "columns": [
        {
         "name": "index",
         "rawType": "int64",
         "type": "integer"
        },
        {
         "name": "EntityID",
         "rawType": "int64",
         "type": "integer"
        },
        {
         "name": "TemporalPropertyID",
         "rawType": "int64",
         "type": "integer"
        },
        {
         "name": "TimeStamp",
         "rawType": "float64",
         "type": "float"
        },
        {
         "name": "TemporalPropertyValue",
         "rawType": "float64",
         "type": "float"
        },
        {
         "name": "state",
         "rawType": "int64",
         "type": "integer"
        }
       ],
       "ref": "5ab5c527-64f2-4802-b326-9199391c7c99",
       "rows": [
        [
         "0",
         "5",
         "2",
         "3.0",
         "20.1",
         "3"
        ],
        [
         "1",
         "5",
         "2",
         "8.0",
         "20.1",
         "3"
        ],
        [
         "2",
         "5",
         "2",
         "12.0",
         "20.1",
         "3"
        ],
        [
         "0",
         "5",
         "3",
         "3.0",
         "20.1",
         "1"
        ],
        [
         "1",
         "5",
         "3",
         "8.0",
         "20.1",
         "1"
        ],
        [
         "2",
         "5",
         "3",
         "12.0",
         "20.1",
         "1"
        ],
        [
         "0",
         "5",
         "4",
         "3.0",
         "20.1",
         "2"
        ],
        [
         "1",
         "5",
         "4",
         "8.0",
         "20.1",
         "2"
        ],
        [
         "2",
         "5",
         "4",
         "12.0",
         "20.1",
         "2"
        ],
        [
         "0",
         "5",
         "5",
         "3.0",
         "20.1",
         "3"
        ],
        [
         "1",
         "5",
         "5",
         "8.0",
         "20.1",
         "3"
        ],
        [
         "2",
         "5",
         "5",
         "12.0",
         "20.1",
         "3"
        ],
        [
         "0",
         "5",
         "44",
         "2.0",
         "1.1",
         "1"
        ],
        [
         "1",
         "5",
         "44",
         "3.0",
         "1.1",
         "1"
        ],
        [
         "2",
         "5",
         "44",
         "4.0",
         "1.1",
         "1"
        ],
        [
         "3",
         "5",
         "44",
         "5.0",
         "1.1",
         "1"
        ],
        [
         "4",
         "5",
         "44",
         "6.0",
         "1.1",
         "1"
        ],
        [
         "5",
         "5",
         "44",
         "7.0",
         "1.0",
         "1"
        ],
        [
         "6",
         "5",
         "44",
         "8.0",
         "1.0",
         "1"
        ],
        [
         "7",
         "5",
         "44",
         "9.0",
         "1.0",
         "1"
        ],
        [
         "8",
         "5",
         "44",
         "10.0",
         "1.06",
         "1"
        ],
        [
         "9",
         "5",
         "44",
         "11.0",
         "1.06",
         "1"
        ],
        [
         "10",
         "5",
         "44",
         "12.0",
         "1.06",
         "1"
        ],
        [
         "11",
         "5",
         "44",
         "13.0",
         "0.87",
         "1"
        ],
        [
         "12",
         "5",
         "44",
         "14.0",
         "0.96",
         "1"
        ],
        [
         "13",
         "5",
         "44",
         "15.0",
         "0.96",
         "1"
        ],
        [
         "14",
         "5",
         "44",
         "16.0",
         "0.99",
         "1"
        ],
        [
         "15",
         "5",
         "44",
         "17.0",
         "0.99",
         "1"
        ],
        [
         "0",
         "5",
         "55",
         "1.0",
         "1.0",
         "3"
        ],
        [
         "0",
         "6",
         "1",
         "2.0",
         "25.8",
         "1"
        ],
        [
         "1",
         "6",
         "1",
         "3.0",
         "38.7",
         "2"
        ],
        [
         "2",
         "6",
         "1",
         "5.0",
         "38.7",
         "2"
        ],
        [
         "3",
         "6",
         "1",
         "6.0",
         "38.7",
         "2"
        ],
        [
         "4",
         "6",
         "1",
         "8.0",
         "83.7",
         "3"
        ],
        [
         "5",
         "6",
         "1",
         "10.0",
         "53.7",
         "2"
        ],
        [
         "6",
         "6",
         "1",
         "11.0",
         "68.7",
         "3"
        ],
        [
         "0",
         "6",
         "2",
         "4.0",
         "20.1",
         "3"
        ],
        [
         "1",
         "6",
         "2",
         "5.0",
         "20.1",
         "3"
        ],
        [
         "2",
         "6",
         "2",
         "12.0",
         "20.1",
         "3"
        ],
        [
         "3",
         "6",
         "2",
         "13.0",
         "20.1",
         "3"
        ],
        [
         "0",
         "6",
         "3",
         "5.0",
         "30.0",
         "3"
        ],
        [
         "1",
         "6",
         "3",
         "9.0",
         "30.0",
         "3"
        ],
        [
         "2",
         "6",
         "3",
         "10.0",
         "30.0",
         "3"
        ],
        [
         "3",
         "6",
         "3",
         "11.0",
         "30.0",
         "3"
        ],
        [
         "4",
         "6",
         "3",
         "12.0",
         "30.0",
         "3"
        ],
        [
         "5",
         "6",
         "3",
         "13.0",
         "30.0",
         "3"
        ],
        [
         "0",
         "6",
         "4",
         "4.0",
         "30.0",
         "3"
        ],
        [
         "0",
         "6",
         "5",
         "3.0",
         "20.1",
         "3"
        ],
        [
         "1",
         "6",
         "5",
         "8.0",
         "20.1",
         "3"
        ],
        [
         "0",
         "6",
         "39",
         "1.0",
         "12.1",
         "3"
        ]
       ],
       "shape": {
        "columns": 5,
        "rows": 296
       }
      },
      "text/html": [
       "<div>\n",
       "<style scoped>\n",
       "    .dataframe tbody tr th:only-of-type {\n",
       "        vertical-align: middle;\n",
       "    }\n",
       "\n",
       "    .dataframe tbody tr th {\n",
       "        vertical-align: top;\n",
       "    }\n",
       "\n",
       "    .dataframe thead th {\n",
       "        text-align: right;\n",
       "    }\n",
       "</style>\n",
       "<table border=\"1\" class=\"dataframe\">\n",
       "  <thead>\n",
       "    <tr style=\"text-align: right;\">\n",
       "      <th></th>\n",
       "      <th>EntityID</th>\n",
       "      <th>TemporalPropertyID</th>\n",
       "      <th>TimeStamp</th>\n",
       "      <th>TemporalPropertyValue</th>\n",
       "      <th>state</th>\n",
       "    </tr>\n",
       "  </thead>\n",
       "  <tbody>\n",
       "    <tr>\n",
       "      <th>0</th>\n",
       "      <td>5</td>\n",
       "      <td>2</td>\n",
       "      <td>3.0</td>\n",
       "      <td>20.1</td>\n",
       "      <td>3</td>\n",
       "    </tr>\n",
       "    <tr>\n",
       "      <th>1</th>\n",
       "      <td>5</td>\n",
       "      <td>2</td>\n",
       "      <td>8.0</td>\n",
       "      <td>20.1</td>\n",
       "      <td>3</td>\n",
       "    </tr>\n",
       "    <tr>\n",
       "      <th>2</th>\n",
       "      <td>5</td>\n",
       "      <td>2</td>\n",
       "      <td>12.0</td>\n",
       "      <td>20.1</td>\n",
       "      <td>3</td>\n",
       "    </tr>\n",
       "    <tr>\n",
       "      <th>0</th>\n",
       "      <td>5</td>\n",
       "      <td>3</td>\n",
       "      <td>3.0</td>\n",
       "      <td>20.1</td>\n",
       "      <td>1</td>\n",
       "    </tr>\n",
       "    <tr>\n",
       "      <th>1</th>\n",
       "      <td>5</td>\n",
       "      <td>3</td>\n",
       "      <td>8.0</td>\n",
       "      <td>20.1</td>\n",
       "      <td>1</td>\n",
       "    </tr>\n",
       "    <tr>\n",
       "      <th>...</th>\n",
       "      <td>...</td>\n",
       "      <td>...</td>\n",
       "      <td>...</td>\n",
       "      <td>...</td>\n",
       "      <td>...</td>\n",
       "    </tr>\n",
       "    <tr>\n",
       "      <th>6</th>\n",
       "      <td>8</td>\n",
       "      <td>42</td>\n",
       "      <td>12.0</td>\n",
       "      <td>75.0</td>\n",
       "      <td>1</td>\n",
       "    </tr>\n",
       "    <tr>\n",
       "      <th>7</th>\n",
       "      <td>8</td>\n",
       "      <td>42</td>\n",
       "      <td>13.0</td>\n",
       "      <td>75.0</td>\n",
       "      <td>1</td>\n",
       "    </tr>\n",
       "    <tr>\n",
       "      <th>8</th>\n",
       "      <td>8</td>\n",
       "      <td>42</td>\n",
       "      <td>14.0</td>\n",
       "      <td>75.0</td>\n",
       "      <td>1</td>\n",
       "    </tr>\n",
       "    <tr>\n",
       "      <th>9</th>\n",
       "      <td>8</td>\n",
       "      <td>42</td>\n",
       "      <td>15.0</td>\n",
       "      <td>75.0</td>\n",
       "      <td>1</td>\n",
       "    </tr>\n",
       "    <tr>\n",
       "      <th>10</th>\n",
       "      <td>8</td>\n",
       "      <td>42</td>\n",
       "      <td>16.0</td>\n",
       "      <td>75.0</td>\n",
       "      <td>1</td>\n",
       "    </tr>\n",
       "  </tbody>\n",
       "</table>\n",
       "<p>296 rows × 5 columns</p>\n",
       "</div>"
      ],
      "text/plain": [
       "    EntityID  TemporalPropertyID  TimeStamp  TemporalPropertyValue  state\n",
       "0          5                   2        3.0                   20.1      3\n",
       "1          5                   2        8.0                   20.1      3\n",
       "2          5                   2       12.0                   20.1      3\n",
       "0          5                   3        3.0                   20.1      1\n",
       "1          5                   3        8.0                   20.1      1\n",
       "..       ...                 ...        ...                    ...    ...\n",
       "6          8                  42       12.0                   75.0      1\n",
       "7          8                  42       13.0                   75.0      1\n",
       "8          8                  42       14.0                   75.0      1\n",
       "9          8                  42       15.0                   75.0      1\n",
       "10         8                  42       16.0                   75.0      1\n",
       "\n",
       "[296 rows x 5 columns]"
      ]
     },
     "metadata": {},
     "output_type": "display_data"
    }
   ],
   "source": [
    "ta = TemporalAbstraction(data)\n",
    "\n",
    "final_result, final_states = ta.apply(method=\"equal_width\", bins=3, per_variable=True, \n",
    "                                      paa=\"max\", paa_window=4,\n",
    "                                      split_test=False, \n",
    "                                      save_output=True, output_dir=os.path.join(output_dir, \"paa_max\"), \n",
    "                                      max_gap=1)\n",
    "\n",
    "print(\"EqualWidth with PAA max result:\")\n",
    "display(final_result)\n"
   ]
  },
  {
   "cell_type": "markdown",
   "metadata": {},
   "source": [
    "### 6. Examples of Train-Test Splitting"
   ]
  },
  {
   "cell_type": "code",
   "execution_count": 14,
   "metadata": {},
   "outputs": [
    {
     "name": "stdout",
     "output_type": "stream",
     "text": [
      "Results saved in directory: ./output_test_hugobot/train_test_gradient\\train\n",
      "Results saved in directory: ./output_test_hugobot/train_test_gradient\\test\n",
      "Train set (Gradient):\n"
     ]
    },
    {
     "data": {
      "application/vnd.microsoft.datawrangler.viewer.v0+json": {
       "columns": [
        {
         "name": "index",
         "rawType": "int64",
         "type": "integer"
        },
        {
         "name": "EntityID",
         "rawType": "int64",
         "type": "integer"
        },
        {
         "name": "TemporalPropertyID",
         "rawType": "int64",
         "type": "integer"
        },
        {
         "name": "TimeStamp",
         "rawType": "float64",
         "type": "float"
        },
        {
         "name": "TemporalPropertyValue",
         "rawType": "float64",
         "type": "float"
        },
        {
         "name": "angle",
         "rawType": "float64",
         "type": "float"
        },
        {
         "name": "state",
         "rawType": "int64",
         "type": "integer"
        }
       ],
       "ref": "a3707c2f-65b0-4331-b225-44bc7c3f6614",
       "rows": [
        [
         "0",
         "5",
         "2",
         "2.0",
         "20.1",
         null,
         "-1"
        ],
        [
         "1",
         "5",
         "2",
         "7.0",
         "20.1",
         "1.3980249110895094e-14",
         "1"
        ],
        [
         "0",
         "5",
         "3",
         "2.0",
         "20.1",
         null,
         "-1"
        ],
        [
         "1",
         "5",
         "3",
         "7.0",
         "20.1",
         "1.3980249110895094e-14",
         "0"
        ],
        [
         "0",
         "5",
         "4",
         "2.0",
         "20.1",
         null,
         "-1"
        ]
       ],
       "shape": {
        "columns": 6,
        "rows": 5
       }
      },
      "text/html": [
       "<div>\n",
       "<style scoped>\n",
       "    .dataframe tbody tr th:only-of-type {\n",
       "        vertical-align: middle;\n",
       "    }\n",
       "\n",
       "    .dataframe tbody tr th {\n",
       "        vertical-align: top;\n",
       "    }\n",
       "\n",
       "    .dataframe thead th {\n",
       "        text-align: right;\n",
       "    }\n",
       "</style>\n",
       "<table border=\"1\" class=\"dataframe\">\n",
       "  <thead>\n",
       "    <tr style=\"text-align: right;\">\n",
       "      <th></th>\n",
       "      <th>EntityID</th>\n",
       "      <th>TemporalPropertyID</th>\n",
       "      <th>TimeStamp</th>\n",
       "      <th>TemporalPropertyValue</th>\n",
       "      <th>angle</th>\n",
       "      <th>state</th>\n",
       "    </tr>\n",
       "  </thead>\n",
       "  <tbody>\n",
       "    <tr>\n",
       "      <th>0</th>\n",
       "      <td>5</td>\n",
       "      <td>2</td>\n",
       "      <td>2.0</td>\n",
       "      <td>20.1</td>\n",
       "      <td>NaN</td>\n",
       "      <td>-1</td>\n",
       "    </tr>\n",
       "    <tr>\n",
       "      <th>1</th>\n",
       "      <td>5</td>\n",
       "      <td>2</td>\n",
       "      <td>7.0</td>\n",
       "      <td>20.1</td>\n",
       "      <td>1.398025e-14</td>\n",
       "      <td>1</td>\n",
       "    </tr>\n",
       "    <tr>\n",
       "      <th>0</th>\n",
       "      <td>5</td>\n",
       "      <td>3</td>\n",
       "      <td>2.0</td>\n",
       "      <td>20.1</td>\n",
       "      <td>NaN</td>\n",
       "      <td>-1</td>\n",
       "    </tr>\n",
       "    <tr>\n",
       "      <th>1</th>\n",
       "      <td>5</td>\n",
       "      <td>3</td>\n",
       "      <td>7.0</td>\n",
       "      <td>20.1</td>\n",
       "      <td>1.398025e-14</td>\n",
       "      <td>0</td>\n",
       "    </tr>\n",
       "    <tr>\n",
       "      <th>0</th>\n",
       "      <td>5</td>\n",
       "      <td>4</td>\n",
       "      <td>2.0</td>\n",
       "      <td>20.1</td>\n",
       "      <td>NaN</td>\n",
       "      <td>-1</td>\n",
       "    </tr>\n",
       "  </tbody>\n",
       "</table>\n",
       "</div>"
      ],
      "text/plain": [
       "   EntityID  TemporalPropertyID  TimeStamp  TemporalPropertyValue  \\\n",
       "0         5                   2        2.0                   20.1   \n",
       "1         5                   2        7.0                   20.1   \n",
       "0         5                   3        2.0                   20.1   \n",
       "1         5                   3        7.0                   20.1   \n",
       "0         5                   4        2.0                   20.1   \n",
       "\n",
       "          angle  state  \n",
       "0           NaN     -1  \n",
       "1  1.398025e-14      1  \n",
       "0           NaN     -1  \n",
       "1  1.398025e-14      0  \n",
       "0           NaN     -1  "
      ]
     },
     "metadata": {},
     "output_type": "display_data"
    },
    {
     "name": "stdout",
     "output_type": "stream",
     "text": [
      "Test set (Gradient):\n"
     ]
    },
    {
     "data": {
      "application/vnd.microsoft.datawrangler.viewer.v0+json": {
       "columns": [
        {
         "name": "index",
         "rawType": "int64",
         "type": "integer"
        },
        {
         "name": "EntityID",
         "rawType": "int64",
         "type": "integer"
        },
        {
         "name": "TemporalPropertyID",
         "rawType": "int64",
         "type": "integer"
        },
        {
         "name": "TimeStamp",
         "rawType": "float64",
         "type": "float"
        },
        {
         "name": "TemporalPropertyValue",
         "rawType": "float64",
         "type": "float"
        },
        {
         "name": "angle",
         "rawType": "float64",
         "type": "float"
        },
        {
         "name": "state",
         "rawType": "int64",
         "type": "integer"
        }
       ],
       "ref": "a698a590-924c-4bc8-ac55-bab5a729faaa",
       "rows": [
        [
         "0",
         "8",
         "1",
         "2.0",
         "25.0",
         null,
         "-1"
        ],
        [
         "0",
         "8",
         "6",
         "2.0",
         "28.0",
         null,
         "-1"
        ],
        [
         "0",
         "8",
         "40",
         "5.0",
         "101.0",
         null,
         "-1"
        ],
        [
         "1",
         "8",
         "40",
         "6.0",
         "101.0",
         "-5.212522212743098e-13",
         "2"
        ],
        [
         "2",
         "8",
         "40",
         "7.0",
         "101.0",
         "6.210641718938409e-13",
         "2"
        ]
       ],
       "shape": {
        "columns": 6,
        "rows": 5
       }
      },
      "text/html": [
       "<div>\n",
       "<style scoped>\n",
       "    .dataframe tbody tr th:only-of-type {\n",
       "        vertical-align: middle;\n",
       "    }\n",
       "\n",
       "    .dataframe tbody tr th {\n",
       "        vertical-align: top;\n",
       "    }\n",
       "\n",
       "    .dataframe thead th {\n",
       "        text-align: right;\n",
       "    }\n",
       "</style>\n",
       "<table border=\"1\" class=\"dataframe\">\n",
       "  <thead>\n",
       "    <tr style=\"text-align: right;\">\n",
       "      <th></th>\n",
       "      <th>EntityID</th>\n",
       "      <th>TemporalPropertyID</th>\n",
       "      <th>TimeStamp</th>\n",
       "      <th>TemporalPropertyValue</th>\n",
       "      <th>angle</th>\n",
       "      <th>state</th>\n",
       "    </tr>\n",
       "  </thead>\n",
       "  <tbody>\n",
       "    <tr>\n",
       "      <th>0</th>\n",
       "      <td>8</td>\n",
       "      <td>1</td>\n",
       "      <td>2.0</td>\n",
       "      <td>25.0</td>\n",
       "      <td>NaN</td>\n",
       "      <td>-1</td>\n",
       "    </tr>\n",
       "    <tr>\n",
       "      <th>0</th>\n",
       "      <td>8</td>\n",
       "      <td>6</td>\n",
       "      <td>2.0</td>\n",
       "      <td>28.0</td>\n",
       "      <td>NaN</td>\n",
       "      <td>-1</td>\n",
       "    </tr>\n",
       "    <tr>\n",
       "      <th>0</th>\n",
       "      <td>8</td>\n",
       "      <td>40</td>\n",
       "      <td>5.0</td>\n",
       "      <td>101.0</td>\n",
       "      <td>NaN</td>\n",
       "      <td>-1</td>\n",
       "    </tr>\n",
       "    <tr>\n",
       "      <th>1</th>\n",
       "      <td>8</td>\n",
       "      <td>40</td>\n",
       "      <td>6.0</td>\n",
       "      <td>101.0</td>\n",
       "      <td>-5.212522e-13</td>\n",
       "      <td>2</td>\n",
       "    </tr>\n",
       "    <tr>\n",
       "      <th>2</th>\n",
       "      <td>8</td>\n",
       "      <td>40</td>\n",
       "      <td>7.0</td>\n",
       "      <td>101.0</td>\n",
       "      <td>6.210642e-13</td>\n",
       "      <td>2</td>\n",
       "    </tr>\n",
       "  </tbody>\n",
       "</table>\n",
       "</div>"
      ],
      "text/plain": [
       "   EntityID  TemporalPropertyID  TimeStamp  TemporalPropertyValue  \\\n",
       "0         8                   1        2.0                   25.0   \n",
       "0         8                   6        2.0                   28.0   \n",
       "0         8                  40        5.0                  101.0   \n",
       "1         8                  40        6.0                  101.0   \n",
       "2         8                  40        7.0                  101.0   \n",
       "\n",
       "          angle  state  \n",
       "0           NaN     -1  \n",
       "0           NaN     -1  \n",
       "0           NaN     -1  \n",
       "1 -5.212522e-13      2  \n",
       "2  6.210642e-13      2  "
      ]
     },
     "metadata": {},
     "output_type": "display_data"
    }
   ],
   "source": [
    "ta = TemporalAbstraction(data)\n",
    "\n",
    "# Using Gradient in single-method mode with train-test split.\n",
    "(final_train, final_test), final_states = ta.apply(method=\"gradient\",\n",
    "                                                   bins=3,\n",
    "                                                   per_variable=True,\n",
    "                                                   gradient_window_size=180,  # Fixed window size\n",
    "                                                   split_test=True,\n",
    "                                                   paa=\"mean\",\n",
    "                                                   paa_window=5,\n",
    "                                                   save_output=True,\n",
    "                                                   output_dir=os.path.join(output_dir, \"train_test_gradient\"),\n",
    "                                                   max_gap=1,train_ratio=0.8)\n",
    "\n",
    "print(\"Train set (Gradient):\")\n",
    "display(final_train.head())\n",
    "print(\"Test set (Gradient):\")\n",
    "display(final_test.head())"
   ]
  },
  {
   "cell_type": "code",
   "execution_count": 15,
   "metadata": {},
   "outputs": [],
   "source": [
    "# from ta_package import TemporalAbstraction\n",
    "# data = pd.read_csv(r\"C:\\Users\\User\\Master_Files\\Hugobot\\beta-release-v1.0.1_21-07-2019\\Datasets\\falls_85-90_all_vars_only_class_1.csv\")\n",
    "# ta = TemporalAbstraction(data)\n",
    "# # Use the high-level API to apply gradient (single-method mode).\n",
    "# final_result, final_states = ta.apply(method=\"gradient\", bins=3, per_variable=True,paa=\"mean\", paa_window=1, gradient_window_size=3,split_test=False,save_output=True, output_dir= os.path.join(output_dir, \"gradient\"),max_gap=20)\n",
    "# print(\"High-level gradient result:\")\n",
    "# display(final_result.head())\n",
    "# print(\"High-level gradient states:\")\n",
    "# print(final_states)"
   ]
  },
  {
   "cell_type": "markdown",
   "metadata": {},
   "source": [
    "### 7. Composite Mode Example Knowledge Base\n"
   ]
  },
  {
   "cell_type": "code",
   "execution_count": 16,
   "metadata": {},
   "outputs": [
    {
     "name": "stdout",
     "output_type": "stream",
     "text": [
      "\n",
      "Running Hugobot abstraction on training data...\n",
      "\n",
      "Warning: about to remove 121 rows containing NaNs in TemporalPropertyValue\n",
      "Results saved in directory: ./output_test_hugobot/sax\n",
      "High-level td4c result:\n"
     ]
    },
    {
     "data": {
      "application/vnd.microsoft.datawrangler.viewer.v0+json": {
       "columns": [
        {
         "name": "index",
         "rawType": "int64",
         "type": "integer"
        },
        {
         "name": "EntityID",
         "rawType": "int64",
         "type": "integer"
        },
        {
         "name": "TemporalPropertyID",
         "rawType": "int64",
         "type": "integer"
        },
        {
         "name": "TimeStamp",
         "rawType": "float64",
         "type": "float"
        },
        {
         "name": "TemporalPropertyValue",
         "rawType": "float64",
         "type": "float"
        },
        {
         "name": "state",
         "rawType": "int64",
         "type": "integer"
        }
       ],
       "ref": "4fb6ea7e-19c3-4062-831e-c6af71fe2742",
       "rows": [
        [
         "0",
         "200163",
         "1",
         "1.0",
         "63.6",
         "3"
        ],
        [
         "1",
         "200163",
         "1",
         "61.0",
         "71.4",
         "3"
        ],
        [
         "0",
         "200163",
         "2",
         "1.0",
         "111.8",
         "3"
        ],
        [
         "1",
         "200163",
         "2",
         "61.0",
         "109.2",
         "3"
        ],
        [
         "0",
         "200163",
         "3",
         "1.0",
         "70.2",
         "3"
        ]
       ],
       "shape": {
        "columns": 5,
        "rows": 5
       }
      },
      "text/html": [
       "<div>\n",
       "<style scoped>\n",
       "    .dataframe tbody tr th:only-of-type {\n",
       "        vertical-align: middle;\n",
       "    }\n",
       "\n",
       "    .dataframe tbody tr th {\n",
       "        vertical-align: top;\n",
       "    }\n",
       "\n",
       "    .dataframe thead th {\n",
       "        text-align: right;\n",
       "    }\n",
       "</style>\n",
       "<table border=\"1\" class=\"dataframe\">\n",
       "  <thead>\n",
       "    <tr style=\"text-align: right;\">\n",
       "      <th></th>\n",
       "      <th>EntityID</th>\n",
       "      <th>TemporalPropertyID</th>\n",
       "      <th>TimeStamp</th>\n",
       "      <th>TemporalPropertyValue</th>\n",
       "      <th>state</th>\n",
       "    </tr>\n",
       "  </thead>\n",
       "  <tbody>\n",
       "    <tr>\n",
       "      <th>0</th>\n",
       "      <td>200163</td>\n",
       "      <td>1</td>\n",
       "      <td>1.0</td>\n",
       "      <td>63.6</td>\n",
       "      <td>3</td>\n",
       "    </tr>\n",
       "    <tr>\n",
       "      <th>1</th>\n",
       "      <td>200163</td>\n",
       "      <td>1</td>\n",
       "      <td>61.0</td>\n",
       "      <td>71.4</td>\n",
       "      <td>3</td>\n",
       "    </tr>\n",
       "    <tr>\n",
       "      <th>0</th>\n",
       "      <td>200163</td>\n",
       "      <td>2</td>\n",
       "      <td>1.0</td>\n",
       "      <td>111.8</td>\n",
       "      <td>3</td>\n",
       "    </tr>\n",
       "    <tr>\n",
       "      <th>1</th>\n",
       "      <td>200163</td>\n",
       "      <td>2</td>\n",
       "      <td>61.0</td>\n",
       "      <td>109.2</td>\n",
       "      <td>3</td>\n",
       "    </tr>\n",
       "    <tr>\n",
       "      <th>0</th>\n",
       "      <td>200163</td>\n",
       "      <td>3</td>\n",
       "      <td>1.0</td>\n",
       "      <td>70.2</td>\n",
       "      <td>3</td>\n",
       "    </tr>\n",
       "  </tbody>\n",
       "</table>\n",
       "</div>"
      ],
      "text/plain": [
       "   EntityID  TemporalPropertyID  TimeStamp  TemporalPropertyValue  state\n",
       "0    200163                   1        1.0                   63.6      3\n",
       "1    200163                   1       61.0                   71.4      3\n",
       "0    200163                   2        1.0                  111.8      3\n",
       "1    200163                   2       61.0                  109.2      3\n",
       "0    200163                   3        1.0                   70.2      3"
      ]
     },
     "metadata": {},
     "output_type": "display_data"
    },
    {
     "name": "stdout",
     "output_type": "stream",
     "text": [
      "High-level td4c states:\n",
      "{1: [6.2, 41.0], 2: [37.5, 64.2], 3: [17.0, 24.0], 4: [1.0, 3.0], 5: [65.4, 67.0], 6: [93.17999877929688, 95.1], 7: [1.6, 5.0], 8: [4.0, 10.0], 50804: [12.5, 12.6], 50822: [3.0, 3.1500000000000004], 50882: [11.0, 11.333333333333334], 50912: [0.45, 0.6499999999999999], 50971: [2.8, 3.1], 50983: [121.0, 122.6], 51006: [4.0, 6.2]}\n"
     ]
    }
   ],
   "source": [
    "from ta_package import TemporalAbstraction\n",
    "\n",
    "\n",
    "print(f\"\\nRunning Hugobot abstraction on training data...\")\n",
    "\n",
    "train_data_file = \"train_new.csv\"\n",
    "train_df = pd.read_csv(train_data_file, low_memory=False)\n",
    "\n",
    "train_ta = TemporalAbstraction(train_df)\n",
    "d_method = \"td4c\"\n",
    "num_of_bins = 3\n",
    "interpolation_gap =45\n",
    "\n",
    "# Use the high-level API to apply SAX (single-method mode).\n",
    "final_result, final_states = train_ta.apply(method=d_method, bins=3, per_variable=True, \n",
    "                                      paa=\"mean\", paa_window=5,\n",
    "                                      split_test=False, \n",
    "                                      save_output=True, output_dir= os.path.join(output_dir, \"sax\"), \n",
    "                                      max_gap=1)\n",
    "\n",
    "print(\"High-level td4c result:\")\n",
    "display(final_result.head())\n",
    "print(\"High-level td4c states:\")\n",
    "print(final_states)\n",
    "\n",
    "\n"
   ]
  },
  {
   "cell_type": "code",
   "execution_count": 6,
   "metadata": {},
   "outputs": [
    {
     "data": {
      "application/vnd.microsoft.datawrangler.viewer.v0+json": {
       "columns": [
        {
         "name": "index",
         "rawType": "int64",
         "type": "integer"
        },
        {
         "name": "EntityID",
         "rawType": "int64",
         "type": "integer"
        },
        {
         "name": "TemporalPropertyID",
         "rawType": "int64",
         "type": "integer"
        },
        {
         "name": "TimeStamp",
         "rawType": "int64",
         "type": "integer"
        },
        {
         "name": "TemporalPropertyValue",
         "rawType": "float64",
         "type": "float"
        }
       ],
       "ref": "e7933206-4d8a-4c87-bd53-9a716d7e39dc",
       "rows": [
        [
         "182",
         "2",
         "57",
         "36",
         "1.0"
        ],
        [
         "284",
         "3",
         "57",
         "30",
         "1.0"
        ]
       ],
       "shape": {
        "columns": 4,
        "rows": 2
       }
      },
      "text/html": [
       "<div>\n",
       "<style scoped>\n",
       "    .dataframe tbody tr th:only-of-type {\n",
       "        vertical-align: middle;\n",
       "    }\n",
       "\n",
       "    .dataframe tbody tr th {\n",
       "        vertical-align: top;\n",
       "    }\n",
       "\n",
       "    .dataframe thead th {\n",
       "        text-align: right;\n",
       "    }\n",
       "</style>\n",
       "<table border=\"1\" class=\"dataframe\">\n",
       "  <thead>\n",
       "    <tr style=\"text-align: right;\">\n",
       "      <th></th>\n",
       "      <th>EntityID</th>\n",
       "      <th>TemporalPropertyID</th>\n",
       "      <th>TimeStamp</th>\n",
       "      <th>TemporalPropertyValue</th>\n",
       "    </tr>\n",
       "  </thead>\n",
       "  <tbody>\n",
       "    <tr>\n",
       "      <th>182</th>\n",
       "      <td>2</td>\n",
       "      <td>57</td>\n",
       "      <td>36</td>\n",
       "      <td>1.0</td>\n",
       "    </tr>\n",
       "    <tr>\n",
       "      <th>284</th>\n",
       "      <td>3</td>\n",
       "      <td>57</td>\n",
       "      <td>30</td>\n",
       "      <td>1.0</td>\n",
       "    </tr>\n",
       "  </tbody>\n",
       "</table>\n",
       "</div>"
      ],
      "text/plain": [
       "     EntityID  TemporalPropertyID  TimeStamp  TemporalPropertyValue\n",
       "182         2                  57         36                    1.0\n",
       "284         3                  57         30                    1.0"
      ]
     },
     "execution_count": 6,
     "metadata": {},
     "output_type": "execute_result"
    }
   ],
   "source": [
    "# show rows where temporalentityid is 57\n",
    "train_df[train_df[\"TemporalPropertyID\"] == 57]"
   ]
  },
  {
   "cell_type": "code",
   "execution_count": 1,
   "metadata": {},
   "outputs": [
    {
     "name": "stdout",
     "output_type": "stream",
     "text": [
      "\n",
      "Running Hugobot abstraction on training data...\n",
      "     TimeStamp  TemporalPropertyValue  TemporalPropertyID  EntityID  Class\n",
      "0            1                    1.0                  56         4      0\n",
      "10           2                    1.0                  56         4      0\n",
      "18           3                    1.0                  56         4      0\n",
      "28           4                    1.0                  56         4      0\n",
      "38           5                    1.0                  56         4      0\n",
      "..         ...                    ...                 ...       ...    ...\n",
      "915         27                    7.0                  56        17      0\n",
      "952         28                    8.0                  56        17      0\n",
      "967         29                    4.0                  56        17      0\n",
      "979         30                    8.0                  56        17      0\n",
      "991         31                    9.0                  56        17      0\n",
      "\n",
      "[94 rows x 5 columns]\n",
      "94\n",
      "     TimeStamp  TemporalPropertyValue  TemporalPropertyID  EntityID  Class\n",
      "1            1                    5.0                  62         4      0\n",
      "11           2                    5.0                  62         4      0\n",
      "19           3                    2.0                  62         4      0\n",
      "29           4                    2.0                  62         4      0\n",
      "39           5                    3.0                  62         4      0\n",
      "..         ...                    ...                 ...       ...    ...\n",
      "917         27                    5.0                  62        17      0\n",
      "954         28                    4.0                  62        17      0\n",
      "968         29                    7.0                  62        17      0\n",
      "980         30                    7.0                  62        17      0\n",
      "992         31                    7.0                  62        17      0\n",
      "\n",
      "[102 rows x 5 columns]\n",
      "102\n",
      "     TimeStamp  TemporalPropertyValue  TemporalPropertyID  EntityID  Class\n",
      "2            1                    5.0                  63         4      0\n",
      "12           2                    5.0                  63         4      0\n",
      "20           3                    2.0                  63         4      0\n",
      "30           4                    3.0                  63         4      0\n",
      "40           5                    3.0                  63         4      0\n",
      "..         ...                    ...                 ...       ...    ...\n",
      "918         27                    2.0                  63        17      0\n",
      "955         28                    4.0                  63        17      0\n",
      "969         29                    3.0                  63        17      0\n",
      "981         30                    5.0                  63        17      0\n",
      "993         31                    3.0                  63        17      0\n",
      "\n",
      "[102 rows x 5 columns]\n",
      "102\n",
      "     TimeStamp  TemporalPropertyValue  TemporalPropertyID  EntityID  Class\n",
      "3            1                    1.0                  68         4      0\n",
      "21           3                    2.0                  68         4      0\n",
      "32           4                    2.0                  68         4      0\n",
      "48           6                    1.0                  68         4      0\n",
      "57           7                    2.0                  68         4      0\n",
      "67           8                    1.0                  68         4      0\n",
      "99          12                    2.0                  68         4      0\n",
      "108         13                    2.0                  68         4      0\n",
      "120         14                    2.0                  68         4      0\n",
      "139         16                    1.0                  68         4      0\n",
      "150         17                    1.0                  68         4      0\n",
      "159         18                    1.0                  68         4      0\n",
      "170         19                    2.0                  68         4      0\n",
      "178         20                    1.0                  68         4      0\n",
      "200         22                    2.0                  68         4      0\n",
      "212         23                    1.0                  68         4      0\n",
      "221         24                    1.0                  68         4      0\n",
      "228         25                    1.0                  68         4      0\n",
      "247         27                    1.0                  68         4      0\n",
      "257         28                    2.0                  68         4      0\n",
      "266         29                    1.0                  68         4      0\n",
      "284         31                    2.0                  68         4      0\n",
      "292         32                    2.0                  68         4      0\n",
      "367         41                    1.0                  68         4      0\n",
      "377         42                    2.0                  68         4      0\n",
      "387         43                    1.0                  68         4      0\n",
      "414         46                    1.0                  68         4      0\n",
      "423         47                    2.0                  68         4      0\n",
      "439         49                    1.0                  68         4      0\n",
      "471          1                    1.0                  68         7      0\n",
      "565         15                    1.0                  68         7      0\n",
      "656          3                    1.0                  68        17      0\n",
      "688          6                    1.0                  68        17      0\n",
      "751         13                    1.0                  68        17      0\n",
      "787         17                    1.0                  68        17      0\n",
      "810         19                    1.0                  68        17      0\n",
      "857         21                    1.0                  68        17      0\n",
      "907         26                    1.0                  68        17      0\n",
      "957         28                    1.0                  68        17      0\n",
      "971         29                    1.0                  68        17      0\n",
      "995         31                    1.0                  68        17      0\n",
      "41\n",
      "     TimeStamp  TemporalPropertyValue  TemporalPropertyID  EntityID  Class\n",
      "4            1                    2.0                  71         4      0\n",
      "22           3                    1.0                  71         4      0\n",
      "49           6                    2.0                  71         4      0\n",
      "58           7                    2.0                  71         4      0\n",
      "68           8                    1.0                  71         4      0\n",
      "109         13                    2.0                  71         4      0\n",
      "121         14                    2.0                  71         4      0\n",
      "160         18                    1.0                  71         4      0\n",
      "179         20                    1.0                  71         4      0\n",
      "191         21                    1.0                  71         4      0\n",
      "201         22                    1.0                  71         4      0\n",
      "229         25                    1.0                  71         4      0\n",
      "248         27                    1.0                  71         4      0\n",
      "258         28                    1.0                  71         4      0\n",
      "267         29                    1.0                  71         4      0\n",
      "317         35                    1.0                  71         4      0\n",
      "368         41                    1.0                  71         4      0\n",
      "378         42                    1.0                  71         4      0\n",
      "388         43                    1.0                  71         4      0\n",
      "398         44                    1.0                  71         4      0\n",
      "424         47                    1.0                  71         4      0\n",
      "441         49                    1.0                  71         4      0\n",
      "451         50                    1.0                  71         4      0\n",
      "484          3                    1.0                  71         7      0\n",
      "490          4                    1.0                  71         7      0\n",
      "512          7                    1.0                  71         7      0\n",
      "566         15                    1.0                  71         7      0\n",
      "592         19                    1.0                  71         7      0\n",
      "657          3                    2.0                  71        17      0\n",
      "679          5                    1.0                  71        17      0\n",
      "722         10                    1.0                  71        17      0\n",
      "797         18                    1.0                  71        17      0\n",
      "858         21                    1.0                  71        17      0\n",
      "885         24                    1.0                  71        17      0\n",
      "908         26                    2.0                  71        17      0\n",
      "921         27                    2.0                  71        17      0\n",
      "959         28                    1.0                  71        17      0\n",
      "972         29                    1.0                  71        17      0\n",
      "984         30                    3.0                  71        17      0\n",
      "39\n",
      "     TimeStamp  TemporalPropertyValue  TemporalPropertyID  EntityID  Class\n",
      "5            1                   95.0                  78         4      0\n",
      "14           2                   99.0                  78         4      0\n",
      "23           3                   80.0                  78         4      0\n",
      "33           4                   78.0                  78         4      0\n",
      "41           5                   57.0                  78         4      0\n",
      "..         ...                    ...                 ...       ...    ...\n",
      "922         27                  131.0                  78        17      0\n",
      "960         28                  123.0                  78        17      0\n",
      "973         29                  123.0                  78        17      0\n",
      "985         30                  241.0                  78        17      0\n",
      "997         31                  184.0                  78        17      0\n",
      "\n",
      "[102 rows x 5 columns]\n",
      "102\n",
      "     TimeStamp  TemporalPropertyValue  TemporalPropertyID  EntityID  Class\n",
      "6            1               5.400000                  72         4      0\n",
      "15           2               4.000000                  72         4      0\n",
      "24           3               4.000000                  72         4      0\n",
      "34           4               4.333333                  72         4      0\n",
      "42           5               4.000000                  72         4      0\n",
      "..         ...                    ...                 ...       ...    ...\n",
      "887         24               7.000000                  72        17      0\n",
      "897         25               4.000000                  72        17      0\n",
      "974         29               7.000000                  72        17      0\n",
      "986         30               6.000000                  72        17      0\n",
      "998         31               5.500000                  72        17      0\n",
      "\n",
      "[90 rows x 5 columns]\n",
      "90\n",
      "     TimeStamp  TemporalPropertyValue  TemporalPropertyID  EntityID  Class\n",
      "7            1                  180.0                  73         4      0\n",
      "16           2                  165.0                  73         4      0\n",
      "25           3                   64.0                  73         4      0\n",
      "35           4                   48.0                  73         4      0\n",
      "43           5                   70.0                  73         4      0\n",
      "..         ...                    ...                 ...       ...    ...\n",
      "923         27                   48.0                  73        17      0\n",
      "961         28                   40.0                  73        17      0\n",
      "975         29                  181.0                  73        17      0\n",
      "987         30                  118.0                  73        17      0\n",
      "999         31                  148.0                  73        17      0\n",
      "\n",
      "[87 rows x 5 columns]\n",
      "87\n",
      "     TimeStamp  TemporalPropertyValue  TemporalPropertyID  EntityID  Class\n",
      "8            1               6.000000                  76         4      0\n",
      "26           3               5.500000                  76         4      0\n",
      "36           4               5.000000                  76         4      0\n",
      "53           6               6.000000                  76         4      0\n",
      "62           7               6.000000                  76         4      0\n",
      "72           8               6.000000                  76         4      0\n",
      "81           9               6.000000                  76         4      0\n",
      "113         13               6.000000                  76         4      0\n",
      "125         14               6.000000                  76         4      0\n",
      "143         16               5.000000                  76         4      0\n",
      "154         17               6.000000                  76         4      0\n",
      "164         18               5.666667                  76         4      0\n",
      "174         19               5.000000                  76         4      0\n",
      "183         20               6.000000                  76         4      0\n",
      "195         21               6.000000                  76         4      0\n",
      "205         22               5.333333                  76         4      0\n",
      "233         25               6.000000                  76         4      0\n",
      "241         26               6.000000                  76         4      0\n",
      "252         27               6.000000                  76         4      0\n",
      "262         28               5.500000                  76         4      0\n",
      "271         29               6.000000                  76         4      0\n",
      "296         32               6.000000                  76         4      0\n",
      "321         35               4.000000                  76         4      0\n",
      "329         36               5.000000                  76         4      0\n",
      "354         39               5.000000                  76         4      0\n",
      "372         41               6.000000                  76         4      0\n",
      "382         42               6.000000                  76         4      0\n",
      "392         43               6.000000                  76         4      0\n",
      "402         44               5.000000                  76         4      0\n",
      "418         46               5.000000                  76         4      0\n",
      "428         47               5.666667                  76         4      0\n",
      "445         49               6.000000                  76         4      0\n",
      "455         50               5.000000                  76         4      0\n",
      "466         51               6.000000                  76         4      0\n",
      "493          4               2.000000                  76         7      0\n",
      "500          5               2.000000                  76         7      0\n",
      "515          7               2.000000                  76         7      0\n",
      "569         15               2.000000                  76         7      0\n",
      "596         19               5.000000                  76         7      0\n",
      "605         20               2.000000                  76         7      0\n",
      "661          3               2.000000                  76        17      0\n",
      "683          5               2.000000                  76        17      0\n",
      "726         10               2.000000                  76        17      0\n",
      "814         19               3.000000                  76        17      0\n",
      "862         21               2.000000                  76        17      0\n",
      "889         24               2.000000                  76        17      0\n",
      "911         26               2.000000                  76        17      0\n",
      "924         27               2.000000                  76        17      0\n",
      "962         28               2.000000                  76        17      0\n",
      "976         29               2.000000                  76        17      0\n",
      "988         30               2.000000                  76        17      0\n",
      "51\n",
      "     TimeStamp  TemporalPropertyValue  TemporalPropertyID  EntityID  Class\n",
      "9            1               2.500000                  77         4      0\n",
      "17           2               2.500000                  77         4      0\n",
      "27           3               2.500000                  77         4      0\n",
      "37           4               3.000000                  77         4      0\n",
      "63           7               2.000000                  77         4      0\n",
      "73           8               3.000000                  77         4      0\n",
      "89          10               2.000000                  77         4      0\n",
      "94          11               3.000000                  77         4      0\n",
      "114         13               2.000000                  77         4      0\n",
      "126         14               2.000000                  77         4      0\n",
      "134         15               2.000000                  77         4      0\n",
      "144         16               2.000000                  77         4      0\n",
      "165         18               3.000000                  77         4      0\n",
      "184         20               2.000000                  77         4      0\n",
      "196         21               3.000000                  77         4      0\n",
      "242         26               2.000000                  77         4      0\n",
      "272         29               3.000000                  77         4      0\n",
      "311         34               2.000000                  77         4      0\n",
      "346         38               3.000000                  77         4      0\n",
      "403         44               2.000000                  77         4      0\n",
      "446         49               2.500000                  77         4      0\n",
      "456         50               3.000000                  77         4      0\n",
      "467         51               3.000000                  77         4      0\n",
      "641          1               3.000000                  77        17      0\n",
      "650          2               2.000000                  77        17      0\n",
      "662          3               2.000000                  77        17      0\n",
      "671          4               2.500000                  77        17      0\n",
      "693          6               3.000000                  77        17      0\n",
      "702          7               2.666667                  77        17      0\n",
      "710          8               2.000000                  77        17      0\n",
      "727         10               2.333333                  77        17      0\n",
      "745         12               3.000000                  77        17      0\n",
      "756         13               3.000000                  77        17      0\n",
      "765         14               2.000000                  77        17      0\n",
      "772         15               3.000000                  77        17      0\n",
      "792         17               2.333333                  77        17      0\n",
      "801         18               2.000000                  77        17      0\n",
      "815         19               2.000000                  77        17      0\n",
      "863         21               2.000000                  77        17      0\n",
      "870         22               2.000000                  77        17      0\n",
      "890         24               2.000000                  77        17      0\n",
      "899         25               2.000000                  77        17      0\n",
      "912         26               2.000000                  77        17      0\n",
      "963         28               2.000000                  77        17      0\n",
      "977         29               2.000000                  77        17      0\n",
      "989         30               2.666667                  77        17      0\n",
      "46\n",
      "     TimeStamp  TemporalPropertyValue  TemporalPropertyID  EntityID  Class\n",
      "13           2                    1.0                  66         4      0\n",
      "47           6                    4.0                  66         4      0\n",
      "77           9                    1.0                  66         4      0\n",
      "98          12                    1.0                  66         4      0\n",
      "107         13                    3.0                  66         4      0\n",
      "..         ...                    ...                 ...       ...    ...\n",
      "919         27                    3.0                  66        17      0\n",
      "956         28                    1.0                  66        17      0\n",
      "970         29                    4.0                  66        17      0\n",
      "982         30                   10.0                  66        17      0\n",
      "994         31                    8.0                  66        17      0\n",
      "\n",
      "[64 rows x 5 columns]\n",
      "64\n",
      "     TimeStamp  TemporalPropertyValue  TemporalPropertyID  EntityID  Class\n",
      "31           4                    1.0                  67         4      0\n",
      "291         32                    1.0                  67         4      0\n",
      "335         37                    1.0                  67         4      0\n",
      "350         39                    1.0                  67         4      0\n",
      "462         51                    1.0                  67         4      0\n",
      "524          8                    4.0                  67         7      0\n",
      "583         18                    1.0                  67         7      0\n",
      "591         19                    1.0                  67         7      0\n",
      "8\n",
      "     TimeStamp  TemporalPropertyValue  TemporalPropertyID  EntityID  Class\n",
      "83          10                    1.0                  59         4      0\n",
      "104         13                    1.0                  59         4      0\n",
      "208         23                    1.0                  59         4      0\n",
      "217         24                    1.0                  59         4      0\n",
      "281         31                    1.0                  59         4      0\n",
      "313         35                    1.0                  59         4      0\n",
      "323         36                    1.0                  59         4      0\n",
      "363         41                    1.0                  59         4      0\n",
      "394         44                    1.0                  59         4      0\n",
      "458         51                    1.0                  59         4      0\n",
      "519          8                    2.0                  59         7      0\n",
      "580         18                    1.0                  59         7      0\n",
      "615          1                    1.0                  59        10      0\n",
      "618          2                    1.0                  59        10      0\n",
      "626          9                    1.0                  59        10      0\n",
      "628         11                    1.0                  59        10      0\n",
      "630         12                    1.0                  59        10      0\n",
      "632         17                    1.0                  59        10      0\n",
      "674          5                    1.0                  59        17      0\n",
      "696          7                    1.0                  59        17      0\n",
      "737         12                    1.0                  59        17      0\n",
      "759         14                    1.0                  59        17      0\n",
      "852         21                    1.0                  59        17      0\n",
      "873         23                    1.0                  59        17      0\n",
      "903         26                    1.0                  59        17      0\n",
      "916         27                    1.0                  59        17      0\n",
      "953         28                    1.0                  59        17      0\n",
      "27\n",
      "     TimeStamp  TemporalPropertyValue  TemporalPropertyID  EntityID  Class\n",
      "115         14                    1.0                  54         4      0\n",
      "145         17                    1.0                  54         4      0\n",
      "279         31                    1.0                  54         4      0\n",
      "330         37                    1.0                  54         4      0\n",
      "447         50                    2.0                  54         4      0\n",
      "634          1                    1.0                  54        17      0\n",
      "642          2                    1.0                  54        17      0\n",
      "651          3                    1.0                  54        17      0\n",
      "663          4                    1.0                  54        17      0\n",
      "672          5                    1.0                  54        17      0\n",
      "684          6                    1.0                  54        17      0\n",
      "694          7                    1.0                  54        17      0\n",
      "703          8                    1.0                  54        17      0\n",
      "711          9                    1.0                  54        17      0\n",
      "717         10                    1.0                  54        17      0\n",
      "728         11                    1.0                  54        17      0\n",
      "735         12                    1.0                  54        17      0\n",
      "746         13                    1.0                  54        17      0\n",
      "757         14                    1.0                  54        17      0\n",
      "766         15                    1.0                  54        17      0\n",
      "773         16                    1.0                  54        17      0\n",
      "780         17                    1.0                  54        17      0\n",
      "793         18                    1.0                  54        17      0\n",
      "802         19                    1.0                  54        17      0\n",
      "816         20                    1.0                  54        17      0\n",
      "850         21                    1.0                  54        17      0\n",
      "864         22                    1.0                  54        17      0\n",
      "871         23                    1.0                  54        17      0\n",
      "878         24                    1.0                  54        17      0\n",
      "891         25                    1.0                  54        17      0\n",
      "901         26                    1.0                  54        17      0\n",
      "914         27                    3.0                  54        17      0\n",
      "951         28                    2.0                  54        17      0\n",
      "966         29                    1.0                  54        17      0\n",
      "978         30                    2.0                  54        17      0\n",
      "990         31                    2.0                  54        17      0\n",
      "36\n",
      "     TimeStamp  TemporalPropertyValue  TemporalPropertyID  EntityID  Class\n",
      "185         21                    1.0                  55         4      0\n",
      "516          8                    1.0                  55         7      0\n",
      "781         17                    1.0                  55        17      0\n",
      "803         19                    1.0                  55        17      0\n",
      "879         24                    1.0                  55        17      0\n",
      "5\n"
     ]
    },
    {
     "ename": "IndexError",
     "evalue": "list index out of range",
     "output_type": "error",
     "traceback": [
      "\u001b[1;31m---------------------------------------------------------------------------\u001b[0m",
      "\u001b[1;31mIndexError\u001b[0m                                Traceback (most recent call last)",
      "\u001b[1;32m<ipython-input-1-02ca2d3f9971>\u001b[0m in \u001b[0;36m<module>\u001b[1;34m\u001b[0m\n\u001b[0;32m     34\u001b[0m                                 \u001b[0msave_output\u001b[0m\u001b[1;33m=\u001b[0m\u001b[1;32mTrue\u001b[0m\u001b[1;33m,\u001b[0m\u001b[1;33m\u001b[0m\u001b[1;33m\u001b[0m\u001b[0m\n\u001b[0;32m     35\u001b[0m                                 \u001b[0moutput_dir\u001b[0m\u001b[1;33m=\u001b[0m\u001b[0mos\u001b[0m\u001b[1;33m.\u001b[0m\u001b[0mpath\u001b[0m\u001b[1;33m.\u001b[0m\u001b[0mjoin\u001b[0m\u001b[1;33m(\u001b[0m\u001b[0moutput_dir\u001b[0m\u001b[1;33m,\u001b[0m \u001b[1;34m\"Train_Eldar\"\u001b[0m\u001b[1;33m)\u001b[0m\u001b[1;33m,\u001b[0m\u001b[1;33m\u001b[0m\u001b[1;33m\u001b[0m\u001b[0m\n\u001b[1;32m---> 36\u001b[1;33m                                 max_gap=interpolation_gap)\n\u001b[0m\u001b[0;32m     37\u001b[0m \u001b[1;33m\u001b[0m\u001b[0m\n\u001b[0;32m     38\u001b[0m \u001b[1;33m\u001b[0m\u001b[0m\n",
      "\u001b[1;32mc:\\Users\\User\\Master_Files\\Hugobot\\beta-release-v1.0.1_21-07-2019\\Hugobot2\\ta_package\\core.py\u001b[0m in \u001b[0;36mapply\u001b[1;34m(self, method, method_config, paa, paa_window, per_entity, split_test, save_output, output_dir, train_ratio, max_gap, train_states, skip_var, **kwargs)\u001b[0m\n\u001b[0;32m    106\u001b[0m                     \u001b[0mfinal_result\u001b[0m \u001b[1;33m=\u001b[0m \u001b[1;33m(\u001b[0m\u001b[0mfinal_train\u001b[0m\u001b[1;33m,\u001b[0m \u001b[0mfinal_test\u001b[0m\u001b[1;33m)\u001b[0m\u001b[1;33m\u001b[0m\u001b[1;33m\u001b[0m\u001b[0m\n\u001b[0;32m    107\u001b[0m                 \u001b[1;32melse\u001b[0m\u001b[1;33m:\u001b[0m\u001b[1;33m\u001b[0m\u001b[1;33m\u001b[0m\u001b[0m\n\u001b[1;32m--> 108\u001b[1;33m                     \u001b[0mfinal_train\u001b[0m\u001b[1;33m,\u001b[0m \u001b[0mfinal_states\u001b[0m \u001b[1;33m=\u001b[0m \u001b[0mself\u001b[0m\u001b[1;33m.\u001b[0m\u001b[0m_composite_fit_transform\u001b[0m\u001b[1;33m(\u001b[0m\u001b[0mtrain_data\u001b[0m\u001b[1;33m,\u001b[0m \u001b[0mmethod_config\u001b[0m\u001b[1;33m)\u001b[0m\u001b[1;33m\u001b[0m\u001b[1;33m\u001b[0m\u001b[0m\n\u001b[0m\u001b[0;32m    109\u001b[0m                     \u001b[0mfinal_result\u001b[0m \u001b[1;33m=\u001b[0m \u001b[0mfinal_train\u001b[0m\u001b[1;33m\u001b[0m\u001b[1;33m\u001b[0m\u001b[0m\n\u001b[0;32m    110\u001b[0m         \u001b[1;32melse\u001b[0m\u001b[1;33m:\u001b[0m\u001b[1;33m\u001b[0m\u001b[1;33m\u001b[0m\u001b[0m\n",
      "\u001b[1;32mc:\\Users\\User\\Master_Files\\Hugobot\\beta-release-v1.0.1_21-07-2019\\Hugobot2\\ta_package\\core.py\u001b[0m in \u001b[0;36m_composite_fit_transform\u001b[1;34m(self, train_data, method_config)\u001b[0m\n\u001b[0;32m    463\u001b[0m                     lambda row: self._map_local_state_ex(tpid, method_name, boundaries,\n\u001b[0;32m    464\u001b[0m                                                           int(row[\"state\"]), global_mapping, global_states_rows),\n\u001b[1;32m--> 465\u001b[1;33m                     \u001b[0maxis\u001b[0m\u001b[1;33m=\u001b[0m\u001b[1;36m1\u001b[0m\u001b[1;33m\u001b[0m\u001b[1;33m\u001b[0m\u001b[0m\n\u001b[0m\u001b[0;32m    466\u001b[0m                 )\n\u001b[0;32m    467\u001b[0m                 \u001b[0mlocal_global_states\u001b[0m\u001b[1;33m[\u001b[0m\u001b[0mmethod_name\u001b[0m\u001b[1;33m]\u001b[0m \u001b[1;33m=\u001b[0m \u001b[0mlocal_result\u001b[0m\u001b[1;33m[\u001b[0m\u001b[0mcol_name\u001b[0m\u001b[1;33m]\u001b[0m\u001b[1;33m\u001b[0m\u001b[1;33m\u001b[0m\u001b[0m\n",
      "\u001b[1;32mc:\\Users\\User\\.conda\\envs\\hugobot\\lib\\site-packages\\pandas\\core\\frame.py\u001b[0m in \u001b[0;36mapply\u001b[1;34m(self, func, axis, raw, result_type, args, **kwargs)\u001b[0m\n\u001b[0;32m   8738\u001b[0m             \u001b[0mkwargs\u001b[0m\u001b[1;33m=\u001b[0m\u001b[0mkwargs\u001b[0m\u001b[1;33m,\u001b[0m\u001b[1;33m\u001b[0m\u001b[1;33m\u001b[0m\u001b[0m\n\u001b[0;32m   8739\u001b[0m         )\n\u001b[1;32m-> 8740\u001b[1;33m         \u001b[1;32mreturn\u001b[0m \u001b[0mop\u001b[0m\u001b[1;33m.\u001b[0m\u001b[0mapply\u001b[0m\u001b[1;33m(\u001b[0m\u001b[1;33m)\u001b[0m\u001b[1;33m\u001b[0m\u001b[1;33m\u001b[0m\u001b[0m\n\u001b[0m\u001b[0;32m   8741\u001b[0m \u001b[1;33m\u001b[0m\u001b[0m\n\u001b[0;32m   8742\u001b[0m     def applymap(\n",
      "\u001b[1;32mc:\\Users\\User\\.conda\\envs\\hugobot\\lib\\site-packages\\pandas\\core\\apply.py\u001b[0m in \u001b[0;36mapply\u001b[1;34m(self)\u001b[0m\n\u001b[0;32m    686\u001b[0m             \u001b[1;32mreturn\u001b[0m \u001b[0mself\u001b[0m\u001b[1;33m.\u001b[0m\u001b[0mapply_raw\u001b[0m\u001b[1;33m(\u001b[0m\u001b[1;33m)\u001b[0m\u001b[1;33m\u001b[0m\u001b[1;33m\u001b[0m\u001b[0m\n\u001b[0;32m    687\u001b[0m \u001b[1;33m\u001b[0m\u001b[0m\n\u001b[1;32m--> 688\u001b[1;33m         \u001b[1;32mreturn\u001b[0m \u001b[0mself\u001b[0m\u001b[1;33m.\u001b[0m\u001b[0mapply_standard\u001b[0m\u001b[1;33m(\u001b[0m\u001b[1;33m)\u001b[0m\u001b[1;33m\u001b[0m\u001b[1;33m\u001b[0m\u001b[0m\n\u001b[0m\u001b[0;32m    689\u001b[0m \u001b[1;33m\u001b[0m\u001b[0m\n\u001b[0;32m    690\u001b[0m     \u001b[1;32mdef\u001b[0m \u001b[0magg\u001b[0m\u001b[1;33m(\u001b[0m\u001b[0mself\u001b[0m\u001b[1;33m)\u001b[0m\u001b[1;33m:\u001b[0m\u001b[1;33m\u001b[0m\u001b[1;33m\u001b[0m\u001b[0m\n",
      "\u001b[1;32mc:\\Users\\User\\.conda\\envs\\hugobot\\lib\\site-packages\\pandas\\core\\apply.py\u001b[0m in \u001b[0;36mapply_standard\u001b[1;34m(self)\u001b[0m\n\u001b[0;32m    810\u001b[0m \u001b[1;33m\u001b[0m\u001b[0m\n\u001b[0;32m    811\u001b[0m     \u001b[1;32mdef\u001b[0m \u001b[0mapply_standard\u001b[0m\u001b[1;33m(\u001b[0m\u001b[0mself\u001b[0m\u001b[1;33m)\u001b[0m\u001b[1;33m:\u001b[0m\u001b[1;33m\u001b[0m\u001b[1;33m\u001b[0m\u001b[0m\n\u001b[1;32m--> 812\u001b[1;33m         \u001b[0mresults\u001b[0m\u001b[1;33m,\u001b[0m \u001b[0mres_index\u001b[0m \u001b[1;33m=\u001b[0m \u001b[0mself\u001b[0m\u001b[1;33m.\u001b[0m\u001b[0mapply_series_generator\u001b[0m\u001b[1;33m(\u001b[0m\u001b[1;33m)\u001b[0m\u001b[1;33m\u001b[0m\u001b[1;33m\u001b[0m\u001b[0m\n\u001b[0m\u001b[0;32m    813\u001b[0m \u001b[1;33m\u001b[0m\u001b[0m\n\u001b[0;32m    814\u001b[0m         \u001b[1;31m# wrap results\u001b[0m\u001b[1;33m\u001b[0m\u001b[1;33m\u001b[0m\u001b[1;33m\u001b[0m\u001b[0m\n",
      "\u001b[1;32mc:\\Users\\User\\.conda\\envs\\hugobot\\lib\\site-packages\\pandas\\core\\apply.py\u001b[0m in \u001b[0;36mapply_series_generator\u001b[1;34m(self)\u001b[0m\n\u001b[0;32m    826\u001b[0m             \u001b[1;32mfor\u001b[0m \u001b[0mi\u001b[0m\u001b[1;33m,\u001b[0m \u001b[0mv\u001b[0m \u001b[1;32min\u001b[0m \u001b[0menumerate\u001b[0m\u001b[1;33m(\u001b[0m\u001b[0mseries_gen\u001b[0m\u001b[1;33m)\u001b[0m\u001b[1;33m:\u001b[0m\u001b[1;33m\u001b[0m\u001b[1;33m\u001b[0m\u001b[0m\n\u001b[0;32m    827\u001b[0m                 \u001b[1;31m# ignore SettingWithCopy here in case the user mutates\u001b[0m\u001b[1;33m\u001b[0m\u001b[1;33m\u001b[0m\u001b[1;33m\u001b[0m\u001b[0m\n\u001b[1;32m--> 828\u001b[1;33m                 \u001b[0mresults\u001b[0m\u001b[1;33m[\u001b[0m\u001b[0mi\u001b[0m\u001b[1;33m]\u001b[0m \u001b[1;33m=\u001b[0m \u001b[0mself\u001b[0m\u001b[1;33m.\u001b[0m\u001b[0mf\u001b[0m\u001b[1;33m(\u001b[0m\u001b[0mv\u001b[0m\u001b[1;33m)\u001b[0m\u001b[1;33m\u001b[0m\u001b[1;33m\u001b[0m\u001b[0m\n\u001b[0m\u001b[0;32m    829\u001b[0m                 \u001b[1;32mif\u001b[0m \u001b[0misinstance\u001b[0m\u001b[1;33m(\u001b[0m\u001b[0mresults\u001b[0m\u001b[1;33m[\u001b[0m\u001b[0mi\u001b[0m\u001b[1;33m]\u001b[0m\u001b[1;33m,\u001b[0m \u001b[0mABCSeries\u001b[0m\u001b[1;33m)\u001b[0m\u001b[1;33m:\u001b[0m\u001b[1;33m\u001b[0m\u001b[1;33m\u001b[0m\u001b[0m\n\u001b[0;32m    830\u001b[0m                     \u001b[1;31m# If we have a view on v, we need to make a copy because\u001b[0m\u001b[1;33m\u001b[0m\u001b[1;33m\u001b[0m\u001b[1;33m\u001b[0m\u001b[0m\n",
      "\u001b[1;32mc:\\Users\\User\\Master_Files\\Hugobot\\beta-release-v1.0.1_21-07-2019\\Hugobot2\\ta_package\\core.py\u001b[0m in \u001b[0;36m<lambda>\u001b[1;34m(row)\u001b[0m\n\u001b[0;32m    462\u001b[0m                 local_result[col_name] = local_result.apply(\n\u001b[0;32m    463\u001b[0m                     lambda row: self._map_local_state_ex(tpid, method_name, boundaries,\n\u001b[1;32m--> 464\u001b[1;33m                                                           int(row[\"state\"]), global_mapping, global_states_rows),\n\u001b[0m\u001b[0;32m    465\u001b[0m                     \u001b[0maxis\u001b[0m\u001b[1;33m=\u001b[0m\u001b[1;36m1\u001b[0m\u001b[1;33m\u001b[0m\u001b[1;33m\u001b[0m\u001b[0m\n\u001b[0;32m    466\u001b[0m                 )\n",
      "\u001b[1;32mc:\\Users\\User\\Master_Files\\Hugobot\\beta-release-v1.0.1_21-07-2019\\Hugobot2\\ta_package\\core.py\u001b[0m in \u001b[0;36m_map_local_state_ex\u001b[1;34m(self, tpid, method_name, boundaries, local_state, global_mapping, global_states_rows)\u001b[0m\n\u001b[0;32m    552\u001b[0m                 \u001b[1;32mif\u001b[0m \u001b[0mlocal_state\u001b[0m \u001b[1;33m==\u001b[0m \u001b[1;36m1\u001b[0m\u001b[1;33m:\u001b[0m\u001b[1;33m\u001b[0m\u001b[1;33m\u001b[0m\u001b[0m\n\u001b[0;32m    553\u001b[0m                     \u001b[0mbin_low\u001b[0m \u001b[1;33m=\u001b[0m \u001b[1;33m-\u001b[0m\u001b[0mmath\u001b[0m\u001b[1;33m.\u001b[0m\u001b[0minf\u001b[0m\u001b[1;33m\u001b[0m\u001b[1;33m\u001b[0m\u001b[0m\n\u001b[1;32m--> 554\u001b[1;33m                     \u001b[0mbin_high\u001b[0m \u001b[1;33m=\u001b[0m \u001b[0mboundaries\u001b[0m\u001b[1;33m[\u001b[0m\u001b[1;36m0\u001b[0m\u001b[1;33m]\u001b[0m\u001b[1;33m\u001b[0m\u001b[1;33m\u001b[0m\u001b[0m\n\u001b[0m\u001b[0;32m    555\u001b[0m                 \u001b[1;32melif\u001b[0m \u001b[0mlocal_state\u001b[0m \u001b[1;33m==\u001b[0m \u001b[0mnum_bins\u001b[0m\u001b[1;33m:\u001b[0m\u001b[1;33m\u001b[0m\u001b[1;33m\u001b[0m\u001b[0m\n\u001b[0;32m    556\u001b[0m                     \u001b[0mbin_low\u001b[0m \u001b[1;33m=\u001b[0m \u001b[0mboundaries\u001b[0m\u001b[1;33m[\u001b[0m\u001b[1;33m-\u001b[0m\u001b[1;36m1\u001b[0m\u001b[1;33m]\u001b[0m\u001b[1;33m\u001b[0m\u001b[1;33m\u001b[0m\u001b[0m\n",
      "\u001b[1;31mIndexError\u001b[0m: list index out of range"
     ]
    }
   ],
   "source": [
    "from ta_package import TemporalAbstraction\n",
    "import warnings\n",
    "import numpy as np\n",
    "import pandas as pd\n",
    "import os\n",
    "\n",
    "data = pd.read_csv(\"FAGender.csv\")\n",
    "output_dir = \"./output_test_hugobot/\"\n",
    "\n",
    "\n",
    "print(f\"\\nRunning Hugobot abstraction on training data...\")\n",
    "\n",
    "train_data_file = \"train1.csv\"\n",
    "train_df = pd.read_csv(train_data_file, low_memory=False)\n",
    "train_df = train_df[:1000]\n",
    "train_ta = TemporalAbstraction(train_df)\n",
    "d_method = \"equal_width\"\n",
    "num_of_bins = 3\n",
    "interpolation_gap = 2\n",
    "\n",
    "# where entity id is 0 change to max(entitiyID) +1 \n",
    "# train_df[\"EntityID\"] = train_df[\"EntityID\"].replace(0, train_df[\"EntityID\"].max() + 1)\n",
    "\n",
    "method_config = {\n",
    "    \"default\": [\n",
    "         {\"method\": \"td4c\", \"bins\": 4},\n",
    "         {\"method\": \"gradient\", \"bins\": 3, \"gradient_window_size\": 3}  \n",
    "       ]\n",
    "}\n",
    "\n",
    "results, train_states = train_ta.apply(method_config=method_config,\n",
    "                                per_variable=True,\n",
    "                                split_test=False,\n",
    "                                save_output=True,\n",
    "                                output_dir=os.path.join(output_dir, \"Train_Eldar\"),\n",
    "                                max_gap=interpolation_gap)\n",
    "\n",
    "\n",
    "\n",
    "print(f\"\\nRunning knowledge-based abstraction on test data...\")"
   ]
  },
  {
   "cell_type": "code",
   "execution_count": null,
   "metadata": {},
   "outputs": [],
   "source": [
    "from ta_package import utils\n",
    "test_data_file = \"test_new.csv\"\n",
    "test_df = pd.read_csv(test_data_file)\n",
    "\n",
    "test_df = utils.map_states_to_test_composite(test_df, train_states, method_config, output_dir = os.path.join(output_dir, \"Test\") , max_gap = interpolation_gap)\n",
    "test_df.head()"
   ]
  },
  {
   "cell_type": "markdown",
   "metadata": {},
   "source": [
    "### 8. Skipping Variables Example\n",
    "\n",
    "```python"
   ]
  },
  {
   "cell_type": "code",
   "execution_count": null,
   "metadata": {},
   "outputs": [
    {
     "name": "stdout",
     "output_type": "stream",
     "text": [
      "Skipping variables: [42, 43]\n",
      "Results saved in directory: ./output_test_hugobot/multiple_methods\n",
      "Composite mode (multiple methods for each variable) symbolic series:\n"
     ]
    },
    {
     "data": {
      "text/html": [
       "<div>\n",
       "<style scoped>\n",
       "    .dataframe tbody tr th:only-of-type {\n",
       "        vertical-align: middle;\n",
       "    }\n",
       "\n",
       "    .dataframe tbody tr th {\n",
       "        vertical-align: top;\n",
       "    }\n",
       "\n",
       "    .dataframe thead th {\n",
       "        text-align: right;\n",
       "    }\n",
       "</style>\n",
       "<table border=\"1\" class=\"dataframe\">\n",
       "  <thead>\n",
       "    <tr style=\"text-align: right;\">\n",
       "      <th></th>\n",
       "      <th>EntityID</th>\n",
       "      <th>TemporalPropertyID</th>\n",
       "      <th>TimeStamp</th>\n",
       "      <th>TemporalPropertyValue</th>\n",
       "      <th>StateID</th>\n",
       "      <th>MethodName</th>\n",
       "    </tr>\n",
       "  </thead>\n",
       "  <tbody>\n",
       "    <tr>\n",
       "      <th>0</th>\n",
       "      <td>5</td>\n",
       "      <td>44</td>\n",
       "      <td>6</td>\n",
       "      <td>1.0</td>\n",
       "      <td>4.0</td>\n",
       "      <td>equal_width</td>\n",
       "    </tr>\n",
       "    <tr>\n",
       "      <th>1</th>\n",
       "      <td>5</td>\n",
       "      <td>44</td>\n",
       "      <td>7</td>\n",
       "      <td>1.0</td>\n",
       "      <td>4.0</td>\n",
       "      <td>equal_width</td>\n",
       "    </tr>\n",
       "    <tr>\n",
       "      <th>2</th>\n",
       "      <td>5</td>\n",
       "      <td>44</td>\n",
       "      <td>8</td>\n",
       "      <td>1.0</td>\n",
       "      <td>4.0</td>\n",
       "      <td>equal_width</td>\n",
       "    </tr>\n",
       "    <tr>\n",
       "      <th>3</th>\n",
       "      <td>5</td>\n",
       "      <td>44</td>\n",
       "      <td>9</td>\n",
       "      <td>1.1</td>\n",
       "      <td>4.0</td>\n",
       "      <td>equal_width</td>\n",
       "    </tr>\n",
       "    <tr>\n",
       "      <th>4</th>\n",
       "      <td>5</td>\n",
       "      <td>44</td>\n",
       "      <td>10</td>\n",
       "      <td>1.1</td>\n",
       "      <td>4.0</td>\n",
       "      <td>equal_width</td>\n",
       "    </tr>\n",
       "  </tbody>\n",
       "</table>\n",
       "</div>"
      ],
      "text/plain": [
       "   EntityID  TemporalPropertyID  TimeStamp  TemporalPropertyValue  StateID  \\\n",
       "0         5                  44          6                    1.0      4.0   \n",
       "1         5                  44          7                    1.0      4.0   \n",
       "2         5                  44          8                    1.0      4.0   \n",
       "3         5                  44          9                    1.1      4.0   \n",
       "4         5                  44         10                    1.1      4.0   \n",
       "\n",
       "    MethodName  \n",
       "0  equal_width  \n",
       "1  equal_width  \n",
       "2  equal_width  \n",
       "3  equal_width  \n",
       "4  equal_width  "
      ]
     },
     "metadata": {},
     "output_type": "display_data"
    },
    {
     "name": "stdout",
     "output_type": "stream",
     "text": [
      "Composite mode (multiple methods) states:\n",
      "<class 'list'>\n",
      "[{'StateID': 1, 'TemporalPropertyID': 44, 'MethodName': 'sax', 'BinId': 1, 'BinLow': -inf, 'BinHigh': -0.431}, {'StateID': 2, 'TemporalPropertyID': 44, 'MethodName': 'sax', 'BinId': 2, 'BinLow': -0.431, 'BinHigh': 0.431}, {'StateID': 3, 'TemporalPropertyID': 44, 'MethodName': 'sax', 'BinId': 3, 'BinLow': 0.431, 'BinHigh': inf}, {'StateID': 4, 'TemporalPropertyID': 44, 'MethodName': 'equal_width', 'BinId': 1, 'BinLow': -inf, 'BinHigh': 1.102}, {'StateID': 5, 'TemporalPropertyID': 44, 'MethodName': 'equal_width', 'BinId': 2, 'BinLow': 1.102, 'BinHigh': 1.335}, {'StateID': 6, 'TemporalPropertyID': 44, 'MethodName': 'equal_width', 'BinId': 4, 'BinLow': 1.568, 'BinHigh': inf}, {'StateID': 7, 'TemporalPropertyID': 44, 'MethodName': 'gradient', 'BinId': 0, 'BinLow': 0.219, 'BinHigh': 0.409}, {'StateID': 8, 'TemporalPropertyID': 44, 'MethodName': 'gradient', 'BinId': 2, 'BinLow': 0.219, 'BinHigh': 0.409}, {'StateID': 9, 'TemporalPropertyID': 44, 'MethodName': 'gradient', 'BinId': 1, 'BinLow': -inf, 'BinHigh': 0.219}, {'StateID': 10, 'TemporalPropertyID': 55, 'MethodName': 'sax', 'BinId': 3, 'BinLow': 0.431, 'BinHigh': inf}, {'StateID': 11, 'TemporalPropertyID': 55, 'MethodName': 'sax', 'BinId': 1, 'BinLow': -inf, 'BinHigh': -0.431}, {'StateID': 12, 'TemporalPropertyID': 55, 'MethodName': 'equal_width', 'BinId': 4, 'BinLow': 0.75, 'BinHigh': inf}, {'StateID': 13, 'TemporalPropertyID': 55, 'MethodName': 'equal_width', 'BinId': 1, 'BinLow': -inf, 'BinHigh': 0.25}, {'StateID': 14, 'TemporalPropertyID': 1, 'MethodName': 'sax', 'BinId': 1, 'BinLow': -inf, 'BinHigh': -0.431}, {'StateID': 15, 'TemporalPropertyID': 1, 'MethodName': 'sax', 'BinId': 2, 'BinLow': -0.431, 'BinHigh': 0.431}, {'StateID': 16, 'TemporalPropertyID': 1, 'MethodName': 'sax', 'BinId': 3, 'BinLow': 0.431, 'BinHigh': inf}, {'StateID': 17, 'TemporalPropertyID': 1, 'MethodName': 'equal_width', 'BinId': 1, 'BinLow': -inf, 'BinHigh': 30.6}, {'StateID': 18, 'TemporalPropertyID': 1, 'MethodName': 'equal_width', 'BinId': 2, 'BinLow': 30.6, 'BinHigh': 48.3}, {'StateID': 19, 'TemporalPropertyID': 1, 'MethodName': 'equal_width', 'BinId': 3, 'BinLow': 48.3, 'BinHigh': 66.0}, {'StateID': 20, 'TemporalPropertyID': 1, 'MethodName': 'equal_width', 'BinId': 4, 'BinLow': 66.0, 'BinHigh': inf}, {'StateID': 21, 'TemporalPropertyID': 1, 'MethodName': 'gradient', 'BinId': 0, 'BinLow': 25.001, 'BinHigh': 41.672}, {'StateID': 22, 'TemporalPropertyID': 1, 'MethodName': 'gradient', 'BinId': 2, 'BinLow': 25.001, 'BinHigh': 41.672}, {'StateID': 23, 'TemporalPropertyID': 1, 'MethodName': 'gradient', 'BinId': 1, 'BinLow': -inf, 'BinHigh': 25.001}, {'StateID': 24, 'TemporalPropertyID': 5, 'MethodName': 'sax', 'BinId': 3, 'BinLow': 0.431, 'BinHigh': inf}, {'StateID': 25, 'TemporalPropertyID': 5, 'MethodName': 'sax', 'BinId': 1, 'BinLow': -inf, 'BinHigh': -0.431}, {'StateID': 26, 'TemporalPropertyID': 5, 'MethodName': 'equal_width', 'BinId': 4, 'BinLow': 17.825, 'BinHigh': inf}, {'StateID': 27, 'TemporalPropertyID': 5, 'MethodName': 'equal_width', 'BinId': 1, 'BinLow': -inf, 'BinHigh': 13.275}, {'StateID': 28, 'TemporalPropertyID': 5, 'MethodName': 'gradient', 'BinId': 0, 'BinLow': -0.0, 'BinHigh': -0.0}, {'StateID': 29, 'TemporalPropertyID': 5, 'MethodName': 'gradient', 'BinId': 1, 'BinLow': -inf, 'BinHigh': -0.0}, {'StateID': 30, 'TemporalPropertyID': 5, 'MethodName': 'gradient', 'BinId': 2, 'BinLow': -0.0, 'BinHigh': -0.0}, {'StateID': 31, 'TemporalPropertyID': 39, 'MethodName': 'sax', 'BinId': 3, 'BinLow': 0.431, 'BinHigh': inf}, {'StateID': 32, 'TemporalPropertyID': 39, 'MethodName': 'sax', 'BinId': 2, 'BinLow': -0.431, 'BinHigh': 0.431}, {'StateID': 33, 'TemporalPropertyID': 39, 'MethodName': 'sax', 'BinId': 1, 'BinLow': -inf, 'BinHigh': -0.431}, {'StateID': 34, 'TemporalPropertyID': 39, 'MethodName': 'equal_width', 'BinId': 4, 'BinLow': 10.5, 'BinHigh': inf}, {'StateID': 35, 'TemporalPropertyID': 39, 'MethodName': 'equal_width', 'BinId': 2, 'BinLow': 7.3, 'BinHigh': 8.9}, {'StateID': 36, 'TemporalPropertyID': 39, 'MethodName': 'equal_width', 'BinId': 3, 'BinLow': 8.9, 'BinHigh': 10.5}, {'StateID': 37, 'TemporalPropertyID': 39, 'MethodName': 'equal_width', 'BinId': 1, 'BinLow': -inf, 'BinHigh': 7.3}, {'StateID': 38, 'TemporalPropertyID': 39, 'MethodName': 'gradient', 'BinId': 2, 'BinLow': -6.199, 'BinHigh': -4.759}, {'StateID': 39, 'TemporalPropertyID': 39, 'MethodName': 'gradient', 'BinId': 0, 'BinLow': -6.199, 'BinHigh': -4.759}, {'StateID': 40, 'TemporalPropertyID': 39, 'MethodName': 'gradient', 'BinId': 1, 'BinLow': -inf, 'BinHigh': -6.199}, {'StateID': 41, 'TemporalPropertyID': 40, 'MethodName': 'sax', 'BinId': 3, 'BinLow': 0.431, 'BinHigh': inf}, {'StateID': 42, 'TemporalPropertyID': 40, 'MethodName': 'sax', 'BinId': 2, 'BinLow': -0.431, 'BinHigh': 0.431}, {'StateID': 43, 'TemporalPropertyID': 40, 'MethodName': 'sax', 'BinId': 1, 'BinLow': -inf, 'BinHigh': -0.431}, {'StateID': 44, 'TemporalPropertyID': 40, 'MethodName': 'equal_width', 'BinId': 4, 'BinLow': 132.75, 'BinHigh': inf}, {'StateID': 45, 'TemporalPropertyID': 40, 'MethodName': 'equal_width', 'BinId': 2, 'BinLow': 92.25, 'BinHigh': 112.5}, {'StateID': 46, 'TemporalPropertyID': 40, 'MethodName': 'equal_width', 'BinId': 3, 'BinLow': 112.5, 'BinHigh': 132.75}, {'StateID': 47, 'TemporalPropertyID': 40, 'MethodName': 'equal_width', 'BinId': 1, 'BinLow': -inf, 'BinHigh': 92.25}, {'StateID': 48, 'TemporalPropertyID': 40, 'MethodName': 'gradient', 'BinId': 2, 'BinLow': -32.04, 'BinHigh': 0.0}, {'StateID': 49, 'TemporalPropertyID': 40, 'MethodName': 'gradient', 'BinId': 0, 'BinLow': -32.04, 'BinHigh': 0.0}, {'StateID': 50, 'TemporalPropertyID': 40, 'MethodName': 'gradient', 'BinId': 1, 'BinLow': -inf, 'BinHigh': -32.04}, {'StateID': 51, 'TemporalPropertyID': 41, 'MethodName': 'sax', 'BinId': 3, 'BinLow': 0.431, 'BinHigh': inf}, {'StateID': 52, 'TemporalPropertyID': 41, 'MethodName': 'sax', 'BinId': 1, 'BinLow': -inf, 'BinHigh': -0.431}, {'StateID': 53, 'TemporalPropertyID': 41, 'MethodName': 'sax', 'BinId': 2, 'BinLow': -0.431, 'BinHigh': 0.431}, {'StateID': 54, 'TemporalPropertyID': 41, 'MethodName': 'equal_width', 'BinId': 2, 'BinLow': 168.75, 'BinHigh': 192.5}, {'StateID': 55, 'TemporalPropertyID': 41, 'MethodName': 'equal_width', 'BinId': 4, 'BinLow': 216.25, 'BinHigh': inf}, {'StateID': 56, 'TemporalPropertyID': 41, 'MethodName': 'equal_width', 'BinId': 3, 'BinLow': 192.5, 'BinHigh': 216.25}, {'StateID': 57, 'TemporalPropertyID': 41, 'MethodName': 'equal_width', 'BinId': 1, 'BinLow': -inf, 'BinHigh': 168.75}, {'StateID': 58, 'TemporalPropertyID': 41, 'MethodName': 'gradient', 'BinId': 1, 'BinLow': -inf, 'BinHigh': -0.0}, {'StateID': 59, 'TemporalPropertyID': 41, 'MethodName': 'gradient', 'BinId': 0, 'BinLow': -0.0, 'BinHigh': 10.443}, {'StateID': 60, 'TemporalPropertyID': 41, 'MethodName': 'gradient', 'BinId': 2, 'BinLow': -0.0, 'BinHigh': 10.443}, {'StateID': 61, 'TemporalPropertyID': 2, 'MethodName': 'sax', 'BinId': 3, 'BinLow': 0.431, 'BinHigh': inf}, {'StateID': 62, 'TemporalPropertyID': 2, 'MethodName': 'sax', 'BinId': 1, 'BinLow': -inf, 'BinHigh': -0.431}, {'StateID': 63, 'TemporalPropertyID': 2, 'MethodName': 'equal_width', 'BinId': 4, 'BinLow': 17.825, 'BinHigh': inf}, {'StateID': 64, 'TemporalPropertyID': 2, 'MethodName': 'equal_width', 'BinId': 1, 'BinLow': -inf, 'BinHigh': 13.275}, {'StateID': 65, 'TemporalPropertyID': 2, 'MethodName': 'gradient', 'BinId': 0, 'BinLow': -0.0, 'BinHigh': 0.0}, {'StateID': 66, 'TemporalPropertyID': 2, 'MethodName': 'gradient', 'BinId': 1, 'BinLow': -inf, 'BinHigh': -0.0}, {'StateID': 67, 'TemporalPropertyID': 2, 'MethodName': 'gradient', 'BinId': 2, 'BinLow': -0.0, 'BinHigh': 0.0}, {'StateID': 68, 'TemporalPropertyID': 3, 'MethodName': 'sax', 'BinId': 3, 'BinLow': 0.431, 'BinHigh': inf}, {'StateID': 69, 'TemporalPropertyID': 3, 'MethodName': 'sax', 'BinId': 1, 'BinLow': -inf, 'BinHigh': -0.431}, {'StateID': 70, 'TemporalPropertyID': 3, 'MethodName': 'equal_width', 'BinId': 4, 'BinLow': 25.25, 'BinHigh': inf}, {'StateID': 71, 'TemporalPropertyID': 3, 'MethodName': 'equal_width', 'BinId': 2, 'BinLow': 15.75, 'BinHigh': 20.5}, {'StateID': 72, 'TemporalPropertyID': 3, 'MethodName': 'equal_width', 'BinId': 1, 'BinLow': -inf, 'BinHigh': 15.75}, {'StateID': 73, 'TemporalPropertyID': 3, 'MethodName': 'gradient', 'BinId': 0, 'BinLow': 0.0, 'BinHigh': 19.905}, {'StateID': 74, 'TemporalPropertyID': 3, 'MethodName': 'gradient', 'BinId': 1, 'BinLow': -inf, 'BinHigh': 0.0}, {'StateID': 75, 'TemporalPropertyID': 3, 'MethodName': 'gradient', 'BinId': 2, 'BinLow': 0.0, 'BinHigh': 19.905}, {'StateID': 76, 'TemporalPropertyID': 4, 'MethodName': 'sax', 'BinId': 2, 'BinLow': -0.431, 'BinHigh': 0.431}, {'StateID': 77, 'TemporalPropertyID': 4, 'MethodName': 'sax', 'BinId': 3, 'BinLow': 0.431, 'BinHigh': inf}, {'StateID': 78, 'TemporalPropertyID': 4, 'MethodName': 'sax', 'BinId': 1, 'BinLow': -inf, 'BinHigh': -0.431}, {'StateID': 79, 'TemporalPropertyID': 4, 'MethodName': 'equal_width', 'BinId': 2, 'BinLow': 15.75, 'BinHigh': 20.5}, {'StateID': 80, 'TemporalPropertyID': 4, 'MethodName': 'equal_width', 'BinId': 4, 'BinLow': 25.25, 'BinHigh': inf}, {'StateID': 81, 'TemporalPropertyID': 4, 'MethodName': 'equal_width', 'BinId': 1, 'BinLow': -inf, 'BinHigh': 15.75}, {'StateID': 82, 'TemporalPropertyID': 4, 'MethodName': 'gradient', 'BinId': 0, 'BinLow': -0.0, 'BinHigh': 3.932}, {'StateID': 83, 'TemporalPropertyID': 4, 'MethodName': 'gradient', 'BinId': 1, 'BinLow': -inf, 'BinHigh': -0.0}, {'StateID': 84, 'TemporalPropertyID': 4, 'MethodName': 'gradient', 'BinId': 2, 'BinLow': -0.0, 'BinHigh': 3.932}, {'StateID': 85, 'TemporalPropertyID': 6, 'MethodName': 'sax', 'BinId': 1, 'BinLow': -inf, 'BinHigh': -0.431}, {'StateID': 86, 'TemporalPropertyID': 6, 'MethodName': 'sax', 'BinId': 3, 'BinLow': 0.431, 'BinHigh': inf}, {'StateID': 87, 'TemporalPropertyID': 6, 'MethodName': 'equal_width', 'BinId': 1, 'BinLow': -inf, 'BinHigh': 33.75}, {'StateID': 88, 'TemporalPropertyID': 6, 'MethodName': 'equal_width', 'BinId': 3, 'BinLow': 52.5, 'BinHigh': 71.25}, {'StateID': 89, 'TemporalPropertyID': 6, 'MethodName': 'equal_width', 'BinId': 4, 'BinLow': 71.25, 'BinHigh': inf}, {'StateID': 90, 'TemporalPropertyID': 6, 'MethodName': 'gradient', 'BinId': 2, 'BinLow': 47.409, 'BinHigh': 49.257}, {'StateID': 91, 'TemporalPropertyID': 6, 'MethodName': 'gradient', 'BinId': 0, 'BinLow': 47.409, 'BinHigh': 49.257}, {'StateID': 92, 'TemporalPropertyID': 6, 'MethodName': 'gradient', 'BinId': 1, 'BinLow': -inf, 'BinHigh': 47.409}]\n"
     ]
    }
   ],
   "source": [
    "skip_var = [42 , 43]\n",
    "\n",
    "train_data_file = \"train.csv\"\n",
    "from ta_package import TemporalAbstraction\n",
    "method_config = {\n",
    "    \"default\": [\n",
    "         {\"method\": \"sax\", \"bins\": 3},\n",
    "         {\"method\": \"equal_width\", \"bins\": 4},\n",
    "         {\"method\": \"gradient\", \"bins\": 3, \"gradient_window_size\": 180}  # Fixed window size\n",
    "       ]\n",
    "}\n",
    "\n",
    "ta = TemporalAbstraction(data)\n",
    "final_result, final_states = ta.apply(method_config=method_config,\n",
    "                                      split_test=False,\n",
    "                                      save_output=True,\n",
    "                                      output_dir= os.path.join(output_dir, \"multiple_methods\"),\n",
    "                                      max_gap=1, skip_var=skip_var)\n",
    "\n",
    "print(\"Composite mode (multiple methods for each variable) symbolic series:\")\n",
    "display(final_result.head())\n",
    "print(\"Composite mode (multiple methods) states:\")\n",
    "print(type(final_states))\n",
    "print(final_states)\n",
    "# convert states to dict of varbile id: [cuttoff1, cutoff2, ...]\n",
    "# final_states_dict = {k: v for k, v in final_states.items() if isinstance(v, list)}\n"
   ]
  },
  {
   "cell_type": "code",
   "execution_count": null,
   "metadata": {},
   "outputs": [
    {
     "data": {
      "text/html": [
       "<div>\n",
       "<style scoped>\n",
       "    .dataframe tbody tr th:only-of-type {\n",
       "        vertical-align: middle;\n",
       "    }\n",
       "\n",
       "    .dataframe tbody tr th {\n",
       "        vertical-align: top;\n",
       "    }\n",
       "\n",
       "    .dataframe thead th {\n",
       "        text-align: right;\n",
       "    }\n",
       "</style>\n",
       "<table border=\"1\" class=\"dataframe\">\n",
       "  <thead>\n",
       "    <tr style=\"text-align: right;\">\n",
       "      <th></th>\n",
       "      <th>StateID</th>\n",
       "      <th>TemporalPropertyID</th>\n",
       "      <th>TemporalPropertyName</th>\n",
       "      <th>BinID</th>\n",
       "      <th>BinLabel</th>\n",
       "      <th>BinLow</th>\n",
       "      <th>BinHigh</th>\n",
       "    </tr>\n",
       "  </thead>\n",
       "  <tbody>\n",
       "    <tr>\n",
       "      <th>0</th>\n",
       "      <td>1</td>\n",
       "      <td>1</td>\n",
       "      <td>ABPm</td>\n",
       "      <td>0</td>\n",
       "      <td>Low</td>\n",
       "      <td>-inf</td>\n",
       "      <td>60.0</td>\n",
       "    </tr>\n",
       "    <tr>\n",
       "      <th>1</th>\n",
       "      <td>2</td>\n",
       "      <td>1</td>\n",
       "      <td>ABPm</td>\n",
       "      <td>1</td>\n",
       "      <td>Medium</td>\n",
       "      <td>60</td>\n",
       "      <td>90.0</td>\n",
       "    </tr>\n",
       "    <tr>\n",
       "      <th>2</th>\n",
       "      <td>3</td>\n",
       "      <td>1</td>\n",
       "      <td>ABPm</td>\n",
       "      <td>2</td>\n",
       "      <td>High</td>\n",
       "      <td>90</td>\n",
       "      <td>inf</td>\n",
       "    </tr>\n",
       "    <tr>\n",
       "      <th>3</th>\n",
       "      <td>4</td>\n",
       "      <td>2</td>\n",
       "      <td>CVD</td>\n",
       "      <td>0</td>\n",
       "      <td>Low</td>\n",
       "      <td>-inf</td>\n",
       "      <td>5.0</td>\n",
       "    </tr>\n",
       "    <tr>\n",
       "      <th>4</th>\n",
       "      <td>5</td>\n",
       "      <td>2</td>\n",
       "      <td>CVD</td>\n",
       "      <td>1</td>\n",
       "      <td>Medium</td>\n",
       "      <td>5</td>\n",
       "      <td>17.0</td>\n",
       "    </tr>\n",
       "    <tr>\n",
       "      <th>5</th>\n",
       "      <td>6</td>\n",
       "      <td>2</td>\n",
       "      <td>CVD</td>\n",
       "      <td>2</td>\n",
       "      <td>High</td>\n",
       "      <td>17</td>\n",
       "      <td>inf</td>\n",
       "    </tr>\n",
       "    <tr>\n",
       "      <th>6</th>\n",
       "      <td>7</td>\n",
       "      <td>3</td>\n",
       "      <td>FiO2</td>\n",
       "      <td>0</td>\n",
       "      <td>Low</td>\n",
       "      <td>-inf</td>\n",
       "      <td>41.0</td>\n",
       "    </tr>\n",
       "    <tr>\n",
       "      <th>7</th>\n",
       "      <td>8</td>\n",
       "      <td>3</td>\n",
       "      <td>FiO2</td>\n",
       "      <td>1</td>\n",
       "      <td>Medium</td>\n",
       "      <td>41</td>\n",
       "      <td>60.0</td>\n",
       "    </tr>\n",
       "    <tr>\n",
       "      <th>8</th>\n",
       "      <td>9</td>\n",
       "      <td>3</td>\n",
       "      <td>FiO2</td>\n",
       "      <td>2</td>\n",
       "      <td>High</td>\n",
       "      <td>60</td>\n",
       "      <td>inf</td>\n",
       "    </tr>\n",
       "    <tr>\n",
       "      <th>9</th>\n",
       "      <td>10</td>\n",
       "      <td>4</td>\n",
       "      <td>Hf</td>\n",
       "      <td>0</td>\n",
       "      <td>Low</td>\n",
       "      <td>-inf</td>\n",
       "      <td>60.0</td>\n",
       "    </tr>\n",
       "    <tr>\n",
       "      <th>10</th>\n",
       "      <td>11</td>\n",
       "      <td>4</td>\n",
       "      <td>Hf</td>\n",
       "      <td>1</td>\n",
       "      <td>Medium</td>\n",
       "      <td>60</td>\n",
       "      <td>110.0</td>\n",
       "    </tr>\n",
       "    <tr>\n",
       "      <th>11</th>\n",
       "      <td>12</td>\n",
       "      <td>4</td>\n",
       "      <td>Hf</td>\n",
       "      <td>2</td>\n",
       "      <td>High</td>\n",
       "      <td>110</td>\n",
       "      <td>inf</td>\n",
       "    </tr>\n",
       "    <tr>\n",
       "      <th>12</th>\n",
       "      <td>13</td>\n",
       "      <td>5</td>\n",
       "      <td>Mpeep</td>\n",
       "      <td>0</td>\n",
       "      <td>Low</td>\n",
       "      <td>-inf</td>\n",
       "      <td>10.0</td>\n",
       "    </tr>\n",
       "    <tr>\n",
       "      <th>13</th>\n",
       "      <td>14</td>\n",
       "      <td>5</td>\n",
       "      <td>Mpeep</td>\n",
       "      <td>1</td>\n",
       "      <td>High</td>\n",
       "      <td>10</td>\n",
       "      <td>inf</td>\n",
       "    </tr>\n",
       "    <tr>\n",
       "      <th>14</th>\n",
       "      <td>15</td>\n",
       "      <td>6</td>\n",
       "      <td>Temp</td>\n",
       "      <td>0</td>\n",
       "      <td>Low</td>\n",
       "      <td>-inf</td>\n",
       "      <td>35.0</td>\n",
       "    </tr>\n",
       "    <tr>\n",
       "      <th>15</th>\n",
       "      <td>16</td>\n",
       "      <td>6</td>\n",
       "      <td>Temp</td>\n",
       "      <td>1</td>\n",
       "      <td>Medium</td>\n",
       "      <td>35</td>\n",
       "      <td>38.5</td>\n",
       "    </tr>\n",
       "    <tr>\n",
       "      <th>16</th>\n",
       "      <td>17</td>\n",
       "      <td>6</td>\n",
       "      <td>Temp</td>\n",
       "      <td>2</td>\n",
       "      <td>High</td>\n",
       "      <td>38.5</td>\n",
       "      <td>inf</td>\n",
       "    </tr>\n",
       "    <tr>\n",
       "      <th>17</th>\n",
       "      <td>18</td>\n",
       "      <td>7</td>\n",
       "      <td>BE</td>\n",
       "      <td>0</td>\n",
       "      <td>Low</td>\n",
       "      <td>-inf.29999924</td>\n",
       "      <td>-6.0</td>\n",
       "    </tr>\n",
       "    <tr>\n",
       "      <th>18</th>\n",
       "      <td>19</td>\n",
       "      <td>7</td>\n",
       "      <td>BE</td>\n",
       "      <td>1</td>\n",
       "      <td>Medium</td>\n",
       "      <td>-6</td>\n",
       "      <td>-3.0</td>\n",
       "    </tr>\n",
       "    <tr>\n",
       "      <th>19</th>\n",
       "      <td>20</td>\n",
       "      <td>7</td>\n",
       "      <td>BE</td>\n",
       "      <td>2</td>\n",
       "      <td>High</td>\n",
       "      <td>-3</td>\n",
       "      <td>inf</td>\n",
       "    </tr>\n",
       "    <tr>\n",
       "      <th>20</th>\n",
       "      <td>21</td>\n",
       "      <td>8</td>\n",
       "      <td>CI</td>\n",
       "      <td>0</td>\n",
       "      <td>Low</td>\n",
       "      <td>-inf</td>\n",
       "      <td>2.5</td>\n",
       "    </tr>\n",
       "    <tr>\n",
       "      <th>21</th>\n",
       "      <td>22</td>\n",
       "      <td>8</td>\n",
       "      <td>CI</td>\n",
       "      <td>1</td>\n",
       "      <td>High</td>\n",
       "      <td>2.5</td>\n",
       "      <td>inf</td>\n",
       "    </tr>\n",
       "    <tr>\n",
       "      <th>22</th>\n",
       "      <td>23</td>\n",
       "      <td>9</td>\n",
       "      <td>Glucose</td>\n",
       "      <td>0</td>\n",
       "      <td>Low</td>\n",
       "      <td>-inf</td>\n",
       "      <td>2.5</td>\n",
       "    </tr>\n",
       "    <tr>\n",
       "      <th>23</th>\n",
       "      <td>24</td>\n",
       "      <td>9</td>\n",
       "      <td>Glucose</td>\n",
       "      <td>1</td>\n",
       "      <td>Medium</td>\n",
       "      <td>2.5</td>\n",
       "      <td>10.0</td>\n",
       "    </tr>\n",
       "    <tr>\n",
       "      <th>24</th>\n",
       "      <td>25</td>\n",
       "      <td>9</td>\n",
       "      <td>Glucose</td>\n",
       "      <td>2</td>\n",
       "      <td>High</td>\n",
       "      <td>10</td>\n",
       "      <td>inf</td>\n",
       "    </tr>\n",
       "    <tr>\n",
       "      <th>25</th>\n",
       "      <td>26</td>\n",
       "      <td>10</td>\n",
       "      <td>CKMB</td>\n",
       "      <td>0</td>\n",
       "      <td>Low</td>\n",
       "      <td>-inf</td>\n",
       "      <td>25.0</td>\n",
       "    </tr>\n",
       "    <tr>\n",
       "      <th>26</th>\n",
       "      <td>27</td>\n",
       "      <td>10</td>\n",
       "      <td>CKMB</td>\n",
       "      <td>1</td>\n",
       "      <td>Medium</td>\n",
       "      <td>25</td>\n",
       "      <td>50.0</td>\n",
       "    </tr>\n",
       "    <tr>\n",
       "      <th>27</th>\n",
       "      <td>28</td>\n",
       "      <td>10</td>\n",
       "      <td>CKMB</td>\n",
       "      <td>2</td>\n",
       "      <td>High</td>\n",
       "      <td>50</td>\n",
       "      <td>inf</td>\n",
       "    </tr>\n",
       "  </tbody>\n",
       "</table>\n",
       "</div>"
      ],
      "text/plain": [
       "    StateID  TemporalPropertyID TemporalPropertyName  BinID BinLabel  \\\n",
       "0         1                   1                 ABPm      0      Low   \n",
       "1         2                   1                 ABPm      1   Medium   \n",
       "2         3                   1                 ABPm      2     High   \n",
       "3         4                   2                  CVD      0      Low   \n",
       "4         5                   2                  CVD      1   Medium   \n",
       "5         6                   2                  CVD      2     High   \n",
       "6         7                   3                 FiO2      0      Low   \n",
       "7         8                   3                 FiO2      1   Medium   \n",
       "8         9                   3                 FiO2      2     High   \n",
       "9        10                   4                   Hf      0      Low   \n",
       "10       11                   4                   Hf      1   Medium   \n",
       "11       12                   4                   Hf      2     High   \n",
       "12       13                   5                Mpeep      0      Low   \n",
       "13       14                   5                Mpeep      1     High   \n",
       "14       15                   6                 Temp      0      Low   \n",
       "15       16                   6                 Temp      1   Medium   \n",
       "16       17                   6                 Temp      2     High   \n",
       "17       18                   7                   BE      0      Low   \n",
       "18       19                   7                   BE      1   Medium   \n",
       "19       20                   7                   BE      2     High   \n",
       "20       21                   8                   CI      0      Low   \n",
       "21       22                   8                   CI      1     High   \n",
       "22       23                   9              Glucose      0      Low   \n",
       "23       24                   9              Glucose      1   Medium   \n",
       "24       25                   9              Glucose      2     High   \n",
       "25       26                  10                 CKMB      0      Low   \n",
       "26       27                  10                 CKMB      1   Medium   \n",
       "27       28                  10                 CKMB      2     High   \n",
       "\n",
       "           BinLow  BinHigh  \n",
       "0            -inf     60.0  \n",
       "1              60     90.0  \n",
       "2              90      inf  \n",
       "3            -inf      5.0  \n",
       "4               5     17.0  \n",
       "5              17      inf  \n",
       "6            -inf     41.0  \n",
       "7              41     60.0  \n",
       "8              60      inf  \n",
       "9            -inf     60.0  \n",
       "10             60    110.0  \n",
       "11            110      inf  \n",
       "12           -inf     10.0  \n",
       "13             10      inf  \n",
       "14           -inf     35.0  \n",
       "15             35     38.5  \n",
       "16           38.5      inf  \n",
       "17  -inf.29999924     -6.0  \n",
       "18             -6     -3.0  \n",
       "19             -3      inf  \n",
       "20           -inf      2.5  \n",
       "21            2.5      inf  \n",
       "22           -inf      2.5  \n",
       "23            2.5     10.0  \n",
       "24             10      inf  \n",
       "25           -inf     25.0  \n",
       "26             25     50.0  \n",
       "27             50      inf  "
      ]
     },
     "execution_count": 32,
     "metadata": {},
     "output_type": "execute_result"
    }
   ],
   "source": [
    "states"
   ]
  },
  {
   "cell_type": "code",
   "execution_count": null,
   "metadata": {},
   "outputs": [
    {
     "name": "stdout",
     "output_type": "stream",
     "text": [
      "Results saved in directory: ./output_test_hugobot/knowledge\n"
     ]
    }
   ],
   "source": [
    "states = pd.read_csv(\"icu_KB_states.csv\")\n",
    "icu_data = pd.read_csv(\"icu_no_zeros.csv\")\n",
    " \n",
    "from ta_package import TemporalAbstraction\n",
    "ta = TemporalAbstraction(icu_data)\n",
    " \n",
    "# Use the high-level API to apply SAX (single-method mode).\n",
    "final_result, final_states = ta.apply(method=\"knowledge\", train_states =states, output_dir= os.path.join(output_dir, \"knowledge\"),\n",
    "                                      max_gap=1)"
   ]
  },
  {
   "cell_type": "code",
   "execution_count": null,
   "metadata": {},
   "outputs": [
    {
     "data": {
      "text/plain": [
       "{1: [60.0, 90.0],\n",
       " 2: [5.0, 17.0],\n",
       " 3: [41.0, 60.0],\n",
       " 4: [60.0, 110.0],\n",
       " 6: [35.0, 38.5],\n",
       " 7: [-6.0, -3.0],\n",
       " 9: [2.5, 10.0],\n",
       " 10: [25.0, 50.0]}"
      ]
     },
     "execution_count": 4,
     "metadata": {},
     "output_type": "execute_result"
    }
   ],
   "source": [
    "final_states"
   ]
  },
  {
   "cell_type": "code",
   "execution_count": null,
   "metadata": {},
   "outputs": [],
   "source": []
  },
  {
   "cell_type": "code",
   "execution_count": null,
   "metadata": {},
   "outputs": [],
   "source": []
  },
  {
   "cell_type": "code",
   "execution_count": null,
   "metadata": {},
   "outputs": [],
   "source": []
  },
  {
   "cell_type": "code",
   "execution_count": null,
   "metadata": {},
   "outputs": [],
   "source": []
  },
  {
   "cell_type": "code",
   "execution_count": null,
   "metadata": {},
   "outputs": [],
   "source": []
  },
  {
   "cell_type": "code",
   "execution_count": null,
   "metadata": {},
   "outputs": [],
   "source": []
  },
  {
   "cell_type": "code",
   "execution_count": null,
   "metadata": {},
   "outputs": [],
   "source": []
  }
 ],
 "metadata": {
  "kernelspec": {
   "display_name": "hugobot",
   "language": "python",
   "name": "python3"
  },
  "language_info": {
   "codemirror_mode": {
    "name": "ipython",
    "version": 3
   },
   "file_extension": ".py",
   "mimetype": "text/x-python",
   "name": "python",
   "nbconvert_exporter": "python",
   "pygments_lexer": "ipython3",
   "version": "3.7.2"
  }
 },
 "nbformat": 4,
 "nbformat_minor": 2
}
